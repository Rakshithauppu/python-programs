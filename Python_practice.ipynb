{
  "cells": [
    {
      "cell_type": "markdown",
      "metadata": {
        "id": "view-in-github",
        "colab_type": "text"
      },
      "source": [
        "<a href=\"https://colab.research.google.com/github/Rakshithauppu/python-programs/blob/main/Python_practice.ipynb\" target=\"_parent\"><img src=\"https://colab.research.google.com/assets/colab-badge.svg\" alt=\"Open In Colab\"/></a>"
      ]
    },
    {
      "cell_type": "markdown",
      "id": "e8103404",
      "metadata": {
        "id": "e8103404"
      },
      "source": [
        "## avg of 3 nums "
      ]
    },
    {
      "cell_type": "code",
      "execution_count": null,
      "id": "b40c3365",
      "metadata": {
        "id": "b40c3365",
        "outputId": "3f4f7738-d74f-492d-f322-adbfb26f54ee"
      },
      "outputs": [
        {
          "name": "stdout",
          "output_type": "stream",
          "text": [
            "20.0\n",
            "<class 'float'>\n"
          ]
        }
      ],
      "source": [
        "A=10\n",
        "B=20\n",
        "C=30\n",
        "avg=(A+B+C)/3\n",
        "print(avg)\n",
        "print (type(avg))"
      ]
    },
    {
      "cell_type": "markdown",
      "id": "5988b0c7",
      "metadata": {
        "id": "5988b0c7"
      },
      "source": [
        "## multiplication of 3 nums"
      ]
    },
    {
      "cell_type": "code",
      "execution_count": null,
      "id": "c8e0f41d",
      "metadata": {
        "id": "c8e0f41d",
        "outputId": "9ece2255-30bc-4fca-c23d-dc83ca475e42"
      },
      "outputs": [
        {
          "name": "stdout",
          "output_type": "stream",
          "text": [
            "105\n",
            "<class 'int'>\n"
          ]
        }
      ],
      "source": [
        "a=5\n",
        "b=7\n",
        "c=3\n",
        "multi=(a*b*c)\n",
        "print(multi)\n",
        "print(type(multi))"
      ]
    },
    {
      "cell_type": "markdown",
      "id": "53ec82e5",
      "metadata": {
        "id": "53ec82e5"
      },
      "source": [
        "## addition of 2 nums\n",
        "(dynamic)"
      ]
    },
    {
      "cell_type": "code",
      "execution_count": null,
      "id": "850a840d",
      "metadata": {
        "id": "850a840d",
        "outputId": "e65df879-0f9b-4c3d-eae7-a2562bb71d88"
      },
      "outputs": [
        {
          "name": "stdout",
          "output_type": "stream",
          "text": [
            "enter the number:10\n",
            "enter the number:10\n",
            "20\n",
            "<class 'int'>\n"
          ]
        }
      ],
      "source": [
        "a=int(input(\"enter the number:\"))\n",
        "b=int(input(\"enter the number:\"))\n",
        "add=(a+b)\n",
        "print(add)\n",
        "print(type(add))"
      ]
    },
    {
      "cell_type": "markdown",
      "id": "c7430abd",
      "metadata": {
        "id": "c7430abd"
      },
      "source": [
        "# type conversions"
      ]
    },
    {
      "cell_type": "markdown",
      "id": "d4e165fc",
      "metadata": {
        "id": "d4e165fc"
      },
      "source": [
        "## convert int to float"
      ]
    },
    {
      "cell_type": "code",
      "execution_count": null,
      "id": "513128fe",
      "metadata": {
        "id": "513128fe",
        "outputId": "2f10cf14-2ca9-4994-8cc9-762e2eb26fbc"
      },
      "outputs": [
        {
          "name": "stdout",
          "output_type": "stream",
          "text": [
            "<class 'int'>\n",
            "10.0\n",
            "<class 'float'>\n"
          ]
        }
      ],
      "source": [
        "a=10\n",
        "print(type(a))\n",
        "b=float(a)\n",
        "print(b)\n",
        "print(type(b))"
      ]
    },
    {
      "cell_type": "markdown",
      "id": "0de4795d",
      "metadata": {
        "id": "0de4795d"
      },
      "source": [
        "## convert float to int"
      ]
    },
    {
      "cell_type": "code",
      "execution_count": null,
      "id": "83227850",
      "metadata": {
        "id": "83227850",
        "outputId": "37db5348-9172-47c3-83f5-c3dccc809fae"
      },
      "outputs": [
        {
          "name": "stdout",
          "output_type": "stream",
          "text": [
            "<class 'float'>\n",
            "9\n",
            "<class 'int'>\n"
          ]
        }
      ],
      "source": [
        "a=9.8\n",
        "print(type(a))\n",
        "b=int(a)\n",
        "print(b)\n",
        "print(type(b))"
      ]
    },
    {
      "cell_type": "markdown",
      "id": "ba837897",
      "metadata": {
        "id": "ba837897"
      },
      "source": [
        "## convert int to string"
      ]
    },
    {
      "cell_type": "code",
      "execution_count": null,
      "id": "f3e03687",
      "metadata": {
        "id": "f3e03687",
        "outputId": "35b1c26c-d9dc-4e1f-94f9-f6fe8d3b0301"
      },
      "outputs": [
        {
          "name": "stdout",
          "output_type": "stream",
          "text": [
            "<class 'float'>\n",
            "15.5\n",
            "<class 'str'>\n"
          ]
        }
      ],
      "source": [
        "a=15.5\n",
        "print(type(a))\n",
        "b=str(a)\n",
        "print(b)\n",
        "print(type(b))"
      ]
    },
    {
      "cell_type": "markdown",
      "id": "00f3a7df",
      "metadata": {
        "id": "00f3a7df"
      },
      "source": [
        "## convert float to string"
      ]
    },
    {
      "cell_type": "code",
      "execution_count": null,
      "id": "b9baa997",
      "metadata": {
        "id": "b9baa997",
        "outputId": "2030b823-8e9d-4d89-8173-f431f4577850"
      },
      "outputs": [
        {
          "name": "stdout",
          "output_type": "stream",
          "text": [
            "<class 'int'>\n",
            "45\n",
            "<class 'str'>\n"
          ]
        }
      ],
      "source": [
        "a=45\n",
        "print(type(a))\n",
        "b=str(a)\n",
        "print(b)\n",
        "print(type(b))"
      ]
    },
    {
      "cell_type": "markdown",
      "id": "2f9681a9",
      "metadata": {
        "id": "2f9681a9"
      },
      "source": [
        "## string to int not possible only if values given in alphabets"
      ]
    },
    {
      "cell_type": "markdown",
      "id": "c76caa85",
      "metadata": {
        "id": "c76caa85"
      },
      "source": [
        "## boolean"
      ]
    },
    {
      "cell_type": "code",
      "execution_count": null,
      "id": "16a229a0",
      "metadata": {
        "id": "16a229a0",
        "outputId": "81b0dedc-9a26-4aae-ee41-247097a5595b"
      },
      "outputs": [
        {
          "name": "stdout",
          "output_type": "stream",
          "text": [
            "False\n",
            "<class 'bool'>\n"
          ]
        }
      ],
      "source": [
        "a=9\n",
        "b=4\n",
        "c=b>a\n",
        "print(c)\n",
        "print(type(c))"
      ]
    },
    {
      "cell_type": "markdown",
      "id": "59f3d1e6",
      "metadata": {
        "id": "59f3d1e6"
      },
      "source": [
        "## convert int into boolean"
      ]
    },
    {
      "cell_type": "code",
      "execution_count": null,
      "id": "3b8e1469",
      "metadata": {
        "id": "3b8e1469",
        "outputId": "a815635e-2cfc-42ca-a3b1-b32f7b177b10"
      },
      "outputs": [
        {
          "name": "stdout",
          "output_type": "stream",
          "text": [
            "<class 'int'>\n",
            "True\n",
            "<class 'bool'>\n"
          ]
        }
      ],
      "source": [
        "a=5\n",
        "c=7\n",
        "d=a<c\n",
        "print(type(c))\n",
        "b=bool(d)\n",
        "print(b)\n",
        "print(type(b))"
      ]
    },
    {
      "cell_type": "markdown",
      "id": "4c57de77",
      "metadata": {
        "id": "4c57de77"
      },
      "source": [
        "## convert boolean into int"
      ]
    },
    {
      "cell_type": "code",
      "execution_count": null,
      "id": "6ee7c913",
      "metadata": {
        "id": "6ee7c913",
        "outputId": "98be3859-4f81-480c-e308-709620c5bba7"
      },
      "outputs": [
        {
          "name": "stdout",
          "output_type": "stream",
          "text": [
            "<class 'bool'>\n",
            "0\n",
            "<class 'int'>\n"
          ]
        }
      ],
      "source": [
        "a=5\n",
        "b=3\n",
        "c=a<b\n",
        "print(type(c))\n",
        "d=int(c)\n",
        "print(d)\n",
        "print(type(d))"
      ]
    },
    {
      "cell_type": "markdown",
      "id": "a055c83b",
      "metadata": {
        "id": "a055c83b"
      },
      "source": [
        "## convert boolean into float"
      ]
    },
    {
      "cell_type": "code",
      "execution_count": null,
      "id": "bcb858e3",
      "metadata": {
        "id": "bcb858e3",
        "outputId": "3d2c46c1-f46f-4e5b-ec81-bc24c64781d2"
      },
      "outputs": [
        {
          "name": "stdout",
          "output_type": "stream",
          "text": [
            "<class 'bool'>\n",
            "9.0\n",
            "<class 'float'>\n"
          ]
        }
      ],
      "source": [
        "a=bool(10)\n",
        "c=9\n",
        "print(type(a))\n",
        "b=float(c)\n",
        "print(b)\n",
        "print(type(b))"
      ]
    },
    {
      "cell_type": "markdown",
      "id": "409d25d5",
      "metadata": {
        "id": "409d25d5"
      },
      "source": [
        "## convert boolean to string"
      ]
    },
    {
      "cell_type": "code",
      "execution_count": null,
      "id": "536d864c",
      "metadata": {
        "id": "536d864c",
        "outputId": "e4d10449-78f9-4834-ec87-34d0dbf705a7"
      },
      "outputs": [
        {
          "name": "stdout",
          "output_type": "stream",
          "text": [
            "<class 'bool'>\n",
            "True\n",
            "<class 'str'>\n"
          ]
        }
      ],
      "source": [
        "a=bool(9)\n",
        "print(type(a))\n",
        "b=str(a)\n",
        "print(b)\n",
        "print(type(b))"
      ]
    },
    {
      "cell_type": "markdown",
      "id": "775a718e",
      "metadata": {
        "id": "775a718e"
      },
      "source": [
        "## complex into int"
      ]
    },
    {
      "cell_type": "code",
      "execution_count": null,
      "id": "fc6dcad3",
      "metadata": {
        "id": "fc6dcad3",
        "outputId": "add30c5d-e4fc-4c08-cf64-71284f03b6f3"
      },
      "outputs": [
        {
          "name": "stdout",
          "output_type": "stream",
          "text": [
            "<class 'complex'>\n",
            "<class 'str'>\n",
            "<class 'bool'>\n"
          ]
        },
        {
          "ename": "TypeError",
          "evalue": "can't convert complex to float",
          "output_type": "error",
          "traceback": [
            "\u001b[1;31m---------------------------------------------------------------------------\u001b[0m",
            "\u001b[1;31mTypeError\u001b[0m                                 Traceback (most recent call last)",
            "\u001b[1;32m~\\AppData\\Local\\Temp/ipykernel_7664/60992858.py\u001b[0m in \u001b[0;36m<module>\u001b[1;34m\u001b[0m\n\u001b[0;32m      5\u001b[0m \u001b[0mc\u001b[0m\u001b[1;33m=\u001b[0m\u001b[0mbool\u001b[0m\u001b[1;33m(\u001b[0m\u001b[0ma\u001b[0m\u001b[1;33m)\u001b[0m\u001b[1;33m\u001b[0m\u001b[1;33m\u001b[0m\u001b[0m\n\u001b[0;32m      6\u001b[0m \u001b[0mprint\u001b[0m\u001b[1;33m(\u001b[0m\u001b[0mtype\u001b[0m\u001b[1;33m(\u001b[0m\u001b[0mc\u001b[0m\u001b[1;33m)\u001b[0m\u001b[1;33m)\u001b[0m\u001b[1;33m\u001b[0m\u001b[1;33m\u001b[0m\u001b[0m\n\u001b[1;32m----> 7\u001b[1;33m \u001b[0md\u001b[0m\u001b[1;33m=\u001b[0m\u001b[0mfloat\u001b[0m\u001b[1;33m(\u001b[0m\u001b[0ma\u001b[0m\u001b[1;33m)\u001b[0m\u001b[1;33m\u001b[0m\u001b[1;33m\u001b[0m\u001b[0m\n\u001b[0m\u001b[0;32m      8\u001b[0m \u001b[0mprint\u001b[0m\u001b[1;33m(\u001b[0m\u001b[0mtype\u001b[0m\u001b[1;33m(\u001b[0m\u001b[0md\u001b[0m\u001b[1;33m)\u001b[0m\u001b[1;33m)\u001b[0m\u001b[1;33m\u001b[0m\u001b[1;33m\u001b[0m\u001b[0m\n",
            "\u001b[1;31mTypeError\u001b[0m: can't convert complex to float"
          ]
        }
      ],
      "source": [
        "a=5+2j\n",
        "print(type(a))\n",
        "b=str(a)\n",
        "print(type(b))\n",
        "c=bool(a)\n",
        "print(type(c))\n",
        "d=float(a)\n",
        "print(type(d))"
      ]
    },
    {
      "cell_type": "code",
      "execution_count": null,
      "id": "9a99f967",
      "metadata": {
        "id": "9a99f967"
      },
      "outputs": [],
      "source": [
        ""
      ]
    }
  ],
  "metadata": {
    "kernelspec": {
      "display_name": "Python 3 (ipykernel)",
      "language": "python",
      "name": "python3"
    },
    "language_info": {
      "codemirror_mode": {
        "name": "ipython",
        "version": 3
      },
      "file_extension": ".py",
      "mimetype": "text/x-python",
      "name": "python",
      "nbconvert_exporter": "python",
      "pygments_lexer": "ipython3",
      "version": "3.9.7"
    },
    "colab": {
      "name": "Python practice.ipynb",
      "provenance": [],
      "include_colab_link": true
    }
  },
  "nbformat": 4,
  "nbformat_minor": 5
}