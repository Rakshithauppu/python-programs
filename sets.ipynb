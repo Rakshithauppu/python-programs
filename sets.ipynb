{
  "nbformat": 4,
  "nbformat_minor": 0,
  "metadata": {
    "colab": {
      "name": "sets.ipynb",
      "provenance": [],
      "authorship_tag": "ABX9TyM4en6QkXErZbH+fKyNhId6",
      "include_colab_link": true
    },
    "kernelspec": {
      "name": "python3",
      "display_name": "Python 3"
    },
    "language_info": {
      "name": "python"
    }
  },
  "cells": [
    {
      "cell_type": "markdown",
      "metadata": {
        "id": "view-in-github",
        "colab_type": "text"
      },
      "source": [
        "<a href=\"https://colab.research.google.com/github/Rakshithauppu/python-programs/blob/main/sets.ipynb\" target=\"_parent\"><img src=\"https://colab.research.google.com/assets/colab-badge.svg\" alt=\"Open In Colab\"/></a>"
      ]
    },
    {
      "cell_type": "markdown",
      "source": [
        "SET PYTHON"
      ],
      "metadata": {
        "id": "R51qTT6eQAe9"
      }
    },
    {
      "cell_type": "code",
      "execution_count": 14,
      "metadata": {
        "colab": {
          "base_uri": "https://localhost:8080/"
        },
        "id": "UvgNoAVwMB9K",
        "outputId": "bbaf29d2-33ae-468d-f670-b0884f7c203b"
      },
      "outputs": [
        {
          "output_type": "stream",
          "name": "stdout",
          "text": [
            "{'black', 'blue', 'orange'}\n",
            "{1, 2, 3, 4, 5}\n",
            "{False, True}\n",
            "{False, 1, 2, 'female', 'age', 'rakshitha'}\n",
            "<class 'set'>\n",
            "6\n"
          ]
        }
      ],
      "source": [
        "colors=set((\"orange\",\"black\",\"blue\",))\n",
        "numbers={1,2,3,4,5}\n",
        "set1={True,False,True,True}\n",
        "set2={\"rakshitha\",1,2,False,\"age\",\"female\"}\n",
        "print(colors)\n",
        "print(numbers)\n",
        "print(set1)\n",
        "print(set2)\n",
        "print(type(colors))\n",
        "print(len(set2))"
      ]
    },
    {
      "cell_type": "markdown",
      "source": [
        "ACCESS SET ITEMS"
      ],
      "metadata": {
        "id": "8sxn0IpZQF08"
      }
    },
    {
      "cell_type": "code",
      "source": [
        "colors={\"orange\",\"black\",\"blue\",}\n",
        "for x in colors:\n",
        "  print(x)"
      ],
      "metadata": {
        "colab": {
          "base_uri": "https://localhost:8080/"
        },
        "id": "uCaxmwG2QIUj",
        "outputId": "bdef8a47-b8af-4a1b-c298-cc4f13239119"
      },
      "execution_count": 17,
      "outputs": [
        {
          "output_type": "stream",
          "name": "stdout",
          "text": [
            "black\n",
            "blue\n",
            "orange\n"
          ]
        }
      ]
    },
    {
      "cell_type": "code",
      "source": [
        "colors={\"orange\",\"black\",\"blue\",}\n",
        "print(\"black\" in colors)"
      ],
      "metadata": {
        "colab": {
          "base_uri": "https://localhost:8080/"
        },
        "id": "VsGo4GFOROrk",
        "outputId": "ab6c3c10-d945-4f66-ddea-d91dcc104812"
      },
      "execution_count": 19,
      "outputs": [
        {
          "output_type": "stream",
          "name": "stdout",
          "text": [
            "True\n"
          ]
        }
      ]
    },
    {
      "cell_type": "markdown",
      "source": [
        "ADD ITEMS"
      ],
      "metadata": {
        "id": "jVXm3uwqRnx0"
      }
    },
    {
      "cell_type": "code",
      "source": [
        "colors={\"orange\",\"black\",\"blue\",}\n",
        "colors.add(\"red\")\n",
        "print(colors)\n",
        "\n",
        "#adding sets\n",
        "colors={\"orange\",\"black\",\"blue\",}\n",
        "names=[\"rakshitha\",\"bhanu\",\"bhavana\",\"dhanush\"]\n",
        "colors.update(names)\n",
        "print(colors)\n",
        "\n",
        "#remove item\n",
        "colors={\"orange\",\"red\",\"black\",\"blue\",}\n",
        "colors.remove(\"red\")\n",
        "print(colors)\n",
        "\n",
        "colors={\"orange\",\"red\",\"black\",\"blue\",}\n",
        "x=colors.pop()\n",
        "print(x)\n",
        "print(colors)\n",
        "\n",
        "colors={\"orange\",\"black\",\"blue\",}\n",
        "colors.clear()\n",
        "print(colors)\n"
      ],
      "metadata": {
        "colab": {
          "base_uri": "https://localhost:8080/"
        },
        "id": "RbWSyaxHRpxS",
        "outputId": "d46517d6-2942-4d7f-8e6d-c15678c9c23c"
      },
      "execution_count": 39,
      "outputs": [
        {
          "output_type": "stream",
          "name": "stdout",
          "text": [
            "{'red', 'black', 'blue', 'orange'}\n",
            "{'blue', 'bhanu', 'bhavana', 'dhanush', 'orange', 'rakshitha', 'black'}\n",
            "{'black', 'blue', 'orange'}\n",
            "red\n",
            "{'black', 'blue', 'orange'}\n",
            "set()\n"
          ]
        }
      ]
    },
    {
      "cell_type": "markdown",
      "source": [
        "LOOP SETS"
      ],
      "metadata": {
        "id": "fdx4frPCWTKd"
      }
    },
    {
      "cell_type": "code",
      "source": [
        "#loop items\n",
        "colors={\"orange\",\"black\",\"blue\",}\n",
        "for x in colors:\n",
        "   print(x)"
      ],
      "metadata": {
        "colab": {
          "base_uri": "https://localhost:8080/"
        },
        "id": "ojurDMxPWSD9",
        "outputId": "7cb4d543-dea1-4975-ff84-92c167b6ae61"
      },
      "execution_count": 35,
      "outputs": [
        {
          "output_type": "stream",
          "name": "stdout",
          "text": [
            "black\n",
            "blue\n",
            "orange\n"
          ]
        }
      ]
    },
    {
      "cell_type": "markdown",
      "source": [
        "JOIN SETS\n"
      ],
      "metadata": {
        "id": "Id8VY7kfXamH"
      }
    },
    {
      "cell_type": "code",
      "source": [
        "#joining two sets\n",
        "colors={\"orange\",\"black\",\"blue\",}\n",
        "numbers={1,2,3,4,5}\n",
        "n={'A','B'}\n",
        "set1=colors.union(numbers)\n",
        "print(set1)\n",
        "colors.update(n)\n",
        "print(colors)"
      ],
      "metadata": {
        "colab": {
          "base_uri": "https://localhost:8080/"
        },
        "id": "EkPUxkNPXd0D",
        "outputId": "a984b97d-e23e-4a1f-c810-90b842aa75e1"
      },
      "execution_count": 44,
      "outputs": [
        {
          "output_type": "stream",
          "name": "stdout",
          "text": [
            "{1, 2, 'blue', 3, 4, 5, 'orange', 'black'}\n",
            "{'A', 'blue', 'B', 'orange', 'black'}\n"
          ]
        }
      ]
    },
    {
      "cell_type": "code",
      "source": [
        ""
      ],
      "metadata": {
        "id": "HUzVsDyzc0fE"
      },
      "execution_count": 40,
      "outputs": []
    }
  ]
}