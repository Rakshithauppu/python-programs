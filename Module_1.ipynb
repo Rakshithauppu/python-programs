{
  "nbformat": 4,
  "nbformat_minor": 0,
  "metadata": {
    "colab": {
      "name": "Module 1.ipynb",
      "provenance": [],
      "authorship_tag": "ABX9TyPyayG8AkVPo1q7u/SqOIph",
      "include_colab_link": true
    },
    "kernelspec": {
      "name": "python3",
      "display_name": "Python 3"
    },
    "language_info": {
      "name": "python"
    }
  },
  "cells": [
    {
      "cell_type": "markdown",
      "metadata": {
        "id": "view-in-github",
        "colab_type": "text"
      },
      "source": [
        "<a href=\"https://colab.research.google.com/github/Rakshithauppu/python-programs/blob/main/Module_1.ipynb\" target=\"_parent\"><img src=\"https://colab.research.google.com/assets/colab-badge.svg\" alt=\"Open In Colab\"/></a>"
      ]
    },
    {
      "cell_type": "code",
      "execution_count": 1,
      "metadata": {
        "id": "K3mQQvI2Y_7b",
        "colab": {
          "base_uri": "https://localhost:8080/"
        },
        "outputId": "42f2e2bf-6768-4774-997b-3be0f2e33c5b"
      },
      "outputs": [
        {
          "output_type": "stream",
          "name": "stdout",
          "text": [
            "33\n",
            "62\n",
            "100\n"
          ]
        }
      ],
      "source": [
        "#Accept input from user and store it in variable and print the value\n",
        "a=100\n",
        "b=20\n",
        "c=int(input())\n",
        "d=int(input())\n",
        "f=a-(b)-(c)-(d)\n",
        "print(f)"
      ]
    },
    {
      "cell_type": "code",
      "source": [
        "#Printing all even numbers, odd numbers, count of even numbers, count of odd numbers within a given range\n",
        "for r in range(101,200,2):\n",
        "  print(r)\n",
        "for a in range(100,200,2):\n",
        "  print(a)"
      ],
      "metadata": {
        "colab": {
          "base_uri": "https://localhost:8080/"
        },
        "id": "tHPWa8azepha",
        "outputId": "65887f8e-cf1a-4f19-fbd1-d29cd0cdba8a"
      },
      "execution_count": 6,
      "outputs": [
        {
          "output_type": "stream",
          "name": "stdout",
          "text": [
            "101\n",
            "103\n",
            "105\n",
            "107\n",
            "109\n",
            "111\n",
            "113\n",
            "115\n",
            "117\n",
            "119\n",
            "121\n",
            "123\n",
            "125\n",
            "127\n",
            "129\n",
            "131\n",
            "133\n",
            "135\n",
            "137\n",
            "139\n",
            "141\n",
            "143\n",
            "145\n",
            "147\n",
            "149\n",
            "151\n",
            "153\n",
            "155\n",
            "157\n",
            "159\n",
            "161\n",
            "163\n",
            "165\n",
            "167\n",
            "169\n",
            "171\n",
            "173\n",
            "175\n",
            "177\n",
            "179\n",
            "181\n",
            "183\n",
            "185\n",
            "187\n",
            "189\n",
            "191\n",
            "193\n",
            "195\n",
            "197\n",
            "199\n",
            "100\n",
            "102\n",
            "104\n",
            "106\n",
            "108\n",
            "110\n",
            "112\n",
            "114\n",
            "116\n",
            "118\n",
            "120\n",
            "122\n",
            "124\n",
            "126\n",
            "128\n",
            "130\n",
            "132\n",
            "134\n",
            "136\n",
            "138\n",
            "140\n",
            "142\n",
            "144\n",
            "146\n",
            "148\n",
            "150\n",
            "152\n",
            "154\n",
            "156\n",
            "158\n",
            "160\n",
            "162\n",
            "164\n",
            "166\n",
            "168\n",
            "170\n",
            "172\n",
            "174\n",
            "176\n",
            "178\n",
            "180\n",
            "182\n",
            "184\n",
            "186\n",
            "188\n",
            "190\n",
            "192\n",
            "194\n",
            "196\n",
            "198\n"
          ]
        }
      ]
    },
    {
      "cell_type": "code",
      "source": [
        "#Take 2 numbers as user input and add, multiply, divide, subtract, remainder and print the output\n",
        "a=15\n",
        "b=5\n",
        "print(a+b)\n",
        "print(a*b)\n",
        "print(a/b)\n",
        "print(a-b)"
      ],
      "metadata": {
        "colab": {
          "base_uri": "https://localhost:8080/"
        },
        "id": "62jqsLf9fc6w",
        "outputId": "6866154e-3ddc-4f7b-d0a0-b213661111d1"
      },
      "execution_count": 5,
      "outputs": [
        {
          "output_type": "stream",
          "name": "stdout",
          "text": [
            "20\n",
            "75\n",
            "3.0\n",
            "10\n"
          ]
        }
      ]
    },
    {
      "cell_type": "code",
      "source": [
        "#Accepting 5 different subject marks from user and displaying the grade of the student.9\n",
        "a=int(input(\"math marks=\"))\n",
        "b=int(input(\"cse marks=\"))\n",
        "c=int(input(\"eng marks=\"))\n",
        "d=int(input(\"phy marks=\"))\n",
        "e=int(input(\"social marks=\"))\n",
        "if (a+b+c+d+e)>=450:\n",
        "  print(\"A grade\")\n",
        "elif (a+b+c+d+e)>=400 and (a+b+c+d+e)<= 450:\n",
        "  print(\"B grade\")\n",
        "else:\n",
        "  print(\"C grade  \")"
      ],
      "metadata": {
        "colab": {
          "base_uri": "https://localhost:8080/"
        },
        "id": "Q6TbiJstgE7Z",
        "outputId": "3e10877f-d865-4595-dead-ba3b3163b4fe"
      },
      "execution_count": 13,
      "outputs": [
        {
          "output_type": "stream",
          "name": "stdout",
          "text": [
            "math marks=89\n",
            "cse marks=86\n",
            "eng marks=82\n",
            "phy marks=83\n",
            "social marks=99\n",
            "B grade\n"
          ]
        }
      ]
    },
    {
      "cell_type": "code",
      "source": [
        "#x Conversion of one unit to another (such as hours to minutes, miles to km and etc)\n",
        "a=float(input(\"enter hours=\"))\n",
        "print(\"minutes are=\", a*60)\n",
        "b=float(input(\"enter miles=\"))\n",
        "print(\"km are=\",b*1.6)"
      ],
      "metadata": {
        "colab": {
          "base_uri": "https://localhost:8080/"
        },
        "id": "aZxyO0X1jSPx",
        "outputId": "3c89e3e1-22e4-402f-fdbf-df3cb25c0f91"
      },
      "execution_count": 15,
      "outputs": [
        {
          "output_type": "stream",
          "name": "stdout",
          "text": [
            "enter hours=5\n",
            "minutes are= 300.0\n",
            "enter miles=6\n",
            "km are= 9.600000000000001\n"
          ]
        }
      ]
    },
    {
      "cell_type": "code",
      "source": [
        "#Usage of mathematical functions in python like math.ceil, floor, fabs, fmod, trunc,pow,sqrt etc\n",
        "import math\n",
        "a=float(input(\"enter a number\"))\n",
        "print(math.ceil(a))\n",
        "print(math.floor(a))\n",
        "print(math.fabs(a))\n",
        "print(math.trunc(a))\n",
        "print(math.sqrt(a))\n",
        "b=float(input(\"enter a number:\"))\n",
        "c=float(input(\"enter a number:\"))\n",
        "print(math.fmod(b,c))\n",
        "print(math.pow(b,c))"
      ],
      "metadata": {
        "colab": {
          "base_uri": "https://localhost:8080/"
        },
        "id": "u_sGTvcPkvk5",
        "outputId": "406bc631-39a0-4d24-9857-f9b0bc9370e5"
      },
      "execution_count": 16,
      "outputs": [
        {
          "output_type": "stream",
          "name": "stdout",
          "text": [
            "enter a number60\n",
            "60\n",
            "60\n",
            "60.0\n",
            "60\n",
            "7.745966692414834\n",
            "enter a number:23\n",
            "enter a number:76\n",
            "23.0\n",
            "3.0996705517935347e+103\n"
          ]
        }
      ]
    },
    {
      "cell_type": "code",
      "source": [
        "# Building a mathematical calculator that can perform operations according to user input.\n",
        "#Use decision making statement.\n",
        "a=float(input(\"enter a number\"))\n",
        "b=float(input(\"enter a number\"))\n",
        "o=input(\"enter operation=\")\n",
        "if o==\"sum\":\n",
        "  print(a+b)\n",
        "elif o==\"subtract\":\n",
        "  print(a-b)\n",
        "elif o==\"product\":\n",
        "  print(a*b)\n",
        "elif  o==\"remainder\":\n",
        "  print(a%b)\n",
        "else:\n",
        "  print(a/b)"
      ],
      "metadata": {
        "colab": {
          "base_uri": "https://localhost:8080/"
        },
        "id": "apxD2VHPmJXh",
        "outputId": "727d1d05-16b3-4ef3-85ed-7593efb76d06"
      },
      "execution_count": 17,
      "outputs": [
        {
          "output_type": "stream",
          "name": "stdout",
          "text": [
            "enter a number20\n",
            "enter a number20\n",
            "enter operation=30\n",
            "1.0\n"
          ]
        }
      ]
    },
    {
      "cell_type": "code",
      "source": [
        "#compute GCD of two given\n",
        "a=int(input(\"enter a number\"))\n",
        "b=int(input(\"enter a number\"))\n",
        "k=a if a<b else b\n",
        "while True:\n",
        "  if a%k==0 and b%k==0:\n",
        "     break\n",
        "  k -=1\n",
        "print(k)"
      ],
      "metadata": {
        "colab": {
          "base_uri": "https://localhost:8080/"
        },
        "id": "SOh-T7ZynuAh",
        "outputId": "0cc10f12-39f4-457e-bdbb-966fa757afc7"
      },
      "execution_count": 25,
      "outputs": [
        {
          "output_type": "stream",
          "name": "stdout",
          "text": [
            "enter a number30\n",
            "enter a number60\n",
            "30\n"
          ]
        }
      ]
    },
    {
      "cell_type": "code",
      "source": [
        "#compute the factorial of a given number\n",
        "n=int(input(\"enter the number=\"))\n",
        "fac=1\n",
        "for i in range(1,n+1):\n",
        "  fac=fac*i\n",
        "\n",
        "  print(fac)"
      ],
      "metadata": {
        "colab": {
          "base_uri": "https://localhost:8080/"
        },
        "id": "IIutQs93osdY",
        "outputId": "e2ba048d-4e19-4306-985b-2c5fc916b390"
      },
      "execution_count": 30,
      "outputs": [
        {
          "output_type": "stream",
          "name": "stdout",
          "text": [
            "enter the number=12\n",
            "1\n",
            "2\n",
            "6\n",
            "24\n",
            "120\n",
            "720\n",
            "5040\n",
            "40320\n",
            "362880\n",
            "3628800\n",
            "39916800\n",
            "479001600\n"
          ]
        }
      ]
    }
  ]
}