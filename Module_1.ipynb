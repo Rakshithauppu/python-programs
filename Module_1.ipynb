{
  "nbformat": 4,
  "nbformat_minor": 0,
  "metadata": {
    "colab": {
      "name": "Module 1.ipynb",
      "provenance": [],
      "authorship_tag": "ABX9TyP7WEQS2eJed9JBRoKR+W92",
      "include_colab_link": true
    },
    "kernelspec": {
      "name": "python3",
      "display_name": "Python 3"
    },
    "language_info": {
      "name": "python"
    }
  },
  "cells": [
    {
      "cell_type": "markdown",
      "metadata": {
        "id": "view-in-github",
        "colab_type": "text"
      },
      "source": [
        "<a href=\"https://colab.research.google.com/github/Rakshithauppu/python-programs/blob/main/Module_1.ipynb\" target=\"_parent\"><img src=\"https://colab.research.google.com/assets/colab-badge.svg\" alt=\"Open In Colab\"/></a>"
      ]
    },
    {
      "cell_type": "code",
      "execution_count": null,
      "metadata": {
        "id": "K3mQQvI2Y_7b"
      },
      "outputs": [],
      "source": [
        "#Accept input from user and store it in variable and print the value\n",
        "a=100\n",
        "b=20\n",
        "c=int(input())\n",
        "d=int(input())\n",
        "f=a-(b)-(c)-(d)\n",
        "print(f)"
      ]
    },
    {
      "cell_type": "code",
      "source": [
        "#Printing all even numbers, odd numbers, count of even numbers, count of odd numbers within a given range\n",
        "for r in range(101,200,2):\n",
        "  print(r)\n",
        "for a in range(100,200,2):\n",
        "  print(a)"
      ],
      "metadata": {
        "id": "tHPWa8azepha"
      },
      "execution_count": null,
      "outputs": []
    },
    {
      "cell_type": "code",
      "source": [
        "#Take 2 numbers as user input and add, multiply, divide, subtract, remainder and print the output\n",
        "a=15\n",
        "b=5\n",
        "print(a+b)\n",
        "print(a*b)\n",
        "print(a/b)\n",
        "print(a-b)"
      ],
      "metadata": {
        "id": "62jqsLf9fc6w"
      },
      "execution_count": null,
      "outputs": []
    },
    {
      "cell_type": "code",
      "source": [
        "#Accepting 5 different subject marks from user and displaying the grade of the student.9\n",
        "a=int(input(\"math marks=\"))\n",
        "b=int(input(\"cse marks=\"))\n",
        "c=int(input(\"eng marks=\"))\n",
        "d=int(input(\"phy marks=\"))\n",
        "e=int(input(\"social marks=\"))\n",
        "if (a+b+c+d+e)>=450:\n",
        "  print(\"A grade\")\n",
        "elif (a+b+c+d+e)>=400 and (a+b+c+d+e)<= 450:\n",
        "  print(\"B grade\")\n",
        "else:\n",
        "  print(\"C grade  \")"
      ],
      "metadata": {
        "id": "Q6TbiJstgE7Z"
      },
      "execution_count": null,
      "outputs": []
    },
    {
      "cell_type": "code",
      "source": [
        "#Conversion of one unit to another (such as hours to minutes, miles to km and etc)\n",
        "a=float(input(\"enter hours=\"))\n",
        "print(\"minutes are=\", a*60)\n",
        "b=float(input(\"enter miles=\"))\n",
        "print(\"km are=\",b*1.6)"
      ],
      "metadata": {
        "id": "aZxyO0X1jSPx"
      },
      "execution_count": null,
      "outputs": []
    },
    {
      "cell_type": "code",
      "source": [
        "#Usage of mathematical functions in python like math.ceil, floor, fabs, fmod, trunc,pow,sqrt etc\n",
        "import math\n",
        "a=float(input(\"enter a number\"))\n",
        "print(math.ceil(a))\n",
        "print(math.floor(a))\n",
        "print(math.fabs(a))\n",
        "print(math.trunc(a))\n",
        "print(math.sqrt(a))\n",
        "b=float(input(\"enter a number:\"))\n",
        "c=float(input(\"enter a number:\"))\n",
        "print(math.fmod(b,c))\n",
        "print(math.pow(b,c))"
      ],
      "metadata": {
        "id": "u_sGTvcPkvk5"
      },
      "execution_count": null,
      "outputs": []
    },
    {
      "cell_type": "code",
      "source": [
        "# Building a mathematical calculator that can perform operations according to user input.\n",
        "#Use decision making statement.\n",
        "a=float(input(\"enter a number\"))\n",
        "b=float(input(\"enter a number\"))\n",
        "o=input(\"enter operation=\")\n",
        "if o==\"sum\":\n",
        "  print(a+b)\n",
        "elif o==\"subtract\":\n",
        "  print(a-b)\n",
        "elif o==\"product\":\n",
        "  print(a*b)\n",
        "elif  o==\"remainder\":\n",
        "  print(a%b)\n",
        "else:\n",
        "  print(a/b)"
      ],
      "metadata": {
        "id": "apxD2VHPmJXh"
      },
      "execution_count": null,
      "outputs": []
    },
    {
      "cell_type": "code",
      "source": [
        "#compute GCD of two given\n",
        "a=int(input(\"enter a number\"))\n",
        "b=int(input(\"enter a number\"))\n",
        "k=a if a<b else b\n",
        "while True:\n",
        "  if a%k==0 and b%k==0:\n",
        "     break\n",
        "  k -=1\n",
        "print(k)"
      ],
      "metadata": {
        "id": "SOh-T7ZynuAh"
      },
      "execution_count": null,
      "outputs": []
    },
    {
      "cell_type": "code",
      "source": [
        "#compute the factorial of a given number\n",
        "n=int(input(\"enter the number=\"))\n",
        "fac=1\n",
        "for i in range(1,n+1):\n",
        "  fac=fac*i\n",
        "\n",
        "  print(fac)"
      ],
      "metadata": {
        "id": "IIutQs93osdY"
      },
      "execution_count": null,
      "outputs": []
    },
    {
      "cell_type": "code",
      "source": [
        "#Use of print statements and use of (.format )for printing different data types.\n",
        "price= 70\n",
        "quantity= 2\n",
        "name=\"thumbsup\"\n",
        "myorder=\"I bought {} {} for the price {} rs only\"\n",
        "print(myorder.format(quantity,name,price))"
      ],
      "metadata": {
        "id": "D2D8OePAe0wd"
      },
      "execution_count": null,
      "outputs": []
    },
    {
      "cell_type": "code",
      "source": [
        "choice=input(\"enter choice(1/2/3/4):\")\n",
        "\n",
        "#check if choice is one of the four options\n",
        "if choice in ('1','2','3','4'):\n",
        "  num1 = float(input(\"enter the first number: \"))\n",
        "  num2 = float(input(\"enter the second number: \"))\n",
        "\n",
        "  if choice == '1':\n",
        "      print(num1, \"+\", num2, \"=\", (num1+num2))\n",
        "\n",
        "  elif choice == '2':\n",
        "      print(num1, \"-\", num2, \"=\", (num1-num2))\n",
        "\n",
        "  elif choice == '3':\n",
        "      print(num1, \"*\", num2, \"=\", (num1*num2))\n",
        "\n",
        "  elif choice == '4':\n",
        "      print(num1, \"/\", num2, \"=\", (num1/num2))"
      ],
      "metadata": {
        "id": "htyMs45Wh8m8"
      },
      "execution_count": null,
      "outputs": []
    },
    {
      "cell_type": "code",
      "source": [
        ""
      ],
      "metadata": {
        "id": "NDLzjc3sbSv5"
      },
      "execution_count": null,
      "outputs": []
    }
  ]
}