{
  "nbformat": 4,
  "nbformat_minor": 0,
  "metadata": {
    "colab": {
      "name": "Tuple.ipynb",
      "provenance": [],
      "authorship_tag": "ABX9TyNge9eJC9x+3RT71fCkRKeo",
      "include_colab_link": true
    },
    "kernelspec": {
      "name": "python3",
      "display_name": "Python 3"
    },
    "language_info": {
      "name": "python"
    }
  },
  "cells": [
    {
      "cell_type": "markdown",
      "metadata": {
        "id": "view-in-github",
        "colab_type": "text"
      },
      "source": [
        "<a href=\"https://colab.research.google.com/github/Rakshithauppu/python-programs/blob/main/Tuple.ipynb\" target=\"_parent\"><img src=\"https://colab.research.google.com/assets/colab-badge.svg\" alt=\"Open In Colab\"/></a>"
      ]
    },
    {
      "cell_type": "markdown",
      "source": [
        "PYTHON TUPLE"
      ],
      "metadata": {
        "id": "qv_bhKH8ziDJ"
      }
    },
    {
      "cell_type": "code",
      "execution_count": 19,
      "metadata": {
        "colab": {
          "base_uri": "https://localhost:8080/"
        },
        "id": "_XCJ1sL-vvhW",
        "outputId": "eab1395c-aebb-44a8-c5ea-d32fb450ca8d"
      },
      "outputs": [
        {
          "output_type": "stream",
          "name": "stdout",
          "text": [
            "('sailu', 'dharani', 'gautham', 'akshaya', 'gautham')\n",
            "5\n",
            "<class 'tuple'>\n",
            "<class 'str'>\n",
            "('apple', 'banana', 'orange')\n",
            "('1', '2', '3', '4')\n",
            "('true', 'false', 'true')\n",
            "('age', 19, 'female', True)\n",
            "('sailu', 'dharani', 'gautham', 'akshaya', 'gautham')\n"
          ]
        }
      ],
      "source": [
        "friends=(\"sailu\",\"dharani\",\"gautham\",\"akshaya\",\"gautham\")\n",
        "print(friends)\n",
        "print(len(friends))\n",
        "print(type(friends))\n",
        "\n",
        "#not a tuple\n",
        "buddie=(\"sailu\")\n",
        "print(type(buddie))\n",
        "\n",
        "#tuple data types\n",
        "tuple1=(\"apple\",\"banana\",\"orange\")\n",
        "tuple2=(\"1\",\"2\",\"3\",\"4\")\n",
        "tuple3=(\"true\",\"false\",\"true\")\n",
        "print(tuple1)\n",
        "print(tuple2)\n",
        "print(tuple3)\n",
        "\n",
        "#tuple type\n",
        "tuple4=(\"age\",19,\"female\",True)\n",
        "print(tuple4)\n",
        "friends=tuple((\"sailu\",\"dharani\",\"gautham\",\"akshaya\",\"gautham\"))\n",
        "print(friends)"
      ]
    },
    {
      "cell_type": "markdown",
      "source": [
        "ACCESS TUPLE ITEMS"
      ],
      "metadata": {
        "id": "Frl-SfEpzsys"
      }
    },
    {
      "cell_type": "code",
      "source": [
        "friends=(\"sailu\",\"dharani\",\"gautham\",\"akshaya\",\"anushya\")\n",
        "print(friends[3])\n",
        "print(friends[-3])\n",
        "print(friends[2:5])\n",
        "print(friends[:4])\n",
        "print(friends[2:])\n",
        "print(friends[-5:-2])\n",
        "\n",
        "#checking the item\n",
        "friends=(\"sailu\",\"dharani\",\"gautham\",\"akshaya\",\"anushya\")\n",
        "if \"dharani\" in friends:\n",
        " print(\"yes,'dharani' is in friends tuple\")"
      ],
      "metadata": {
        "colab": {
          "base_uri": "https://localhost:8080/"
        },
        "id": "il-xnh-pzrxk",
        "outputId": "b069259a-7bf8-48a6-bd52-9b09d6b47f92"
      },
      "execution_count": 39,
      "outputs": [
        {
          "output_type": "stream",
          "name": "stdout",
          "text": [
            "akshaya\n",
            "gautham\n",
            "('gautham', 'akshaya', 'anushya')\n",
            "('sailu', 'dharani', 'gautham', 'akshaya')\n",
            "('gautham', 'akshaya', 'anushya')\n",
            "('sailu', 'dharani', 'gautham')\n",
            "yes,'dharani' is in friends tuple\n"
          ]
        }
      ]
    },
    {
      "cell_type": "markdown",
      "source": [
        "UPDATE TUPLES"
      ],
      "metadata": {
        "id": "DWSzLimJ2DLw"
      }
    },
    {
      "cell_type": "code",
      "source": [
        "x=(\"rakshitha\",\"geetha\",\"sailaja\",\"govind\")\n",
        "y=list(x)\n",
        "y[1]=\"govind\"\n",
        "x=tuple(y)\n",
        "print(x)\n",
        "\n",
        "#adding items\n",
        "x=(\"rakshitha\",\"geetha\",\"sailaja\",\"govind\")\n",
        "y=list(x)\n",
        "y.append(\"deepthi\")\n",
        "x=tuple(y)\n",
        "print(x)\n",
        "\n",
        "#tuple to a tuple\n",
        "x=(\"rakshitha\",\"geetha\",\"sailaja\",\"govind\")\n",
        "y=(\"kavya\",)\n",
        "x += y\n",
        "print(x)\n",
        "\n",
        "#removing items\n",
        "x=(\"rakshitha\",\"geetha\",\"sailaja\",\"govind\",\"deepthi\")\n",
        "y=list(x)\n",
        "y.remove(\"deepthi\")\n",
        "y.pop(1)\n",
        "x=tuple(y)\n",
        "print(x)\n",
        "\n",
        "#deleting tuple\n",
        "del x\n",
        "\n"
      ],
      "metadata": {
        "colab": {
          "base_uri": "https://localhost:8080/"
        },
        "id": "Xuq04tUT2GHn",
        "outputId": "a9cdb2f6-b548-48ae-eef0-0ce61e9332c3"
      },
      "execution_count": 49,
      "outputs": [
        {
          "output_type": "stream",
          "name": "stdout",
          "text": [
            "('rakshitha', 'govind', 'sailaja', 'govind')\n",
            "('rakshitha', 'geetha', 'sailaja', 'govind', 'deepthi')\n",
            "('rakshitha', 'geetha', 'sailaja', 'govind', 'kavya')\n",
            "('rakshitha', 'sailaja', 'govind')\n"
          ]
        }
      ]
    },
    {
      "cell_type": "markdown",
      "source": [
        "UNPACK TUPLE"
      ],
      "metadata": {
        "id": "pZakAYdC5SR8"
      }
    },
    {
      "cell_type": "code",
      "source": [
        "x=(\"rakshitha\",\"geetha\",\"sailaja\",\"govind\")\n",
        "(green,orange,*black)=x\n",
        "print(green)\n",
        "print(orange)\n",
        "print(black)\n",
        "\n",
        "#using asterisk\n",
        "(a,*b,c)=x\n",
        "print(a)\n",
        "print(b)\n",
        "print(c)"
      ],
      "metadata": {
        "colab": {
          "base_uri": "https://localhost:8080/"
        },
        "id": "KG9zjRl65UGT",
        "outputId": "e374d53d-1bb4-4d9e-b85d-215bfffc98b8"
      },
      "execution_count": 60,
      "outputs": [
        {
          "output_type": "stream",
          "name": "stdout",
          "text": [
            "rakshitha\n",
            "geetha\n",
            "['sailaja', 'govind']\n",
            "rakshitha\n",
            "['geetha', 'sailaja']\n",
            "govind\n"
          ]
        }
      ]
    },
    {
      "cell_type": "markdown",
      "source": [
        "LOOP TUPLE"
      ],
      "metadata": {
        "id": "2yRLSp1G7rVD"
      }
    },
    {
      "cell_type": "code",
      "source": [
        "#for loop\n",
        "friends=(\"rakshitha\",\"geetha\",\"sailaja\",\"govind\")\n",
        "for x in friends:\n",
        "  print(x)\n",
        "\n",
        "for i in range(len(friends)):\n",
        "  print(friends[i])\n",
        "\n",
        "#while loop\n",
        "x=(\"rakshitha\",\"geetha\",\"sailaja\",\"govind\")\n",
        "i=0\n",
        "while i < len(x):\n",
        "  print(x[i])\n",
        "  i=i+1"
      ],
      "metadata": {
        "colab": {
          "base_uri": "https://localhost:8080/"
        },
        "id": "rc9HM72L7udK",
        "outputId": "b894b8fc-86b8-400d-a397-a4d0f2a2ff5e"
      },
      "execution_count": 65,
      "outputs": [
        {
          "output_type": "stream",
          "name": "stdout",
          "text": [
            "rakshitha\n",
            "geetha\n",
            "sailaja\n",
            "govind\n",
            "rakshitha\n",
            "geetha\n",
            "sailaja\n",
            "govind\n",
            "rakshitha\n",
            "geetha\n",
            "sailaja\n",
            "govind\n"
          ]
        }
      ]
    },
    {
      "cell_type": "markdown",
      "source": [
        "JOIN TUPLE"
      ],
      "metadata": {
        "id": "4rHVYo0rAJX8"
      }
    },
    {
      "cell_type": "code",
      "source": [
        "x=(\"rakshitha\",\"geetha\",\"sailaja\",\"govind\")\n",
        "y=(\"sailu\",\"dharani\",\"gautham\",\"akshaya\",\"anushya\")\n",
        "\n",
        "#adding tuple\n",
        "tuple1=x+y\n",
        "print(tuple1)\n",
        "\n",
        "#multiply tuple\n",
        "tuple2=y*3\n",
        "print(tuple2)"
      ],
      "metadata": {
        "colab": {
          "base_uri": "https://localhost:8080/"
        },
        "id": "NdRQYP8gAQs6",
        "outputId": "33f2d8d1-cc0e-46e8-d37a-a2015bd64e56"
      },
      "execution_count": 75,
      "outputs": [
        {
          "output_type": "stream",
          "name": "stdout",
          "text": [
            "('rakshitha', 'geetha', 'sailaja', 'govind', 'sailu', 'dharani', 'gautham', 'akshaya', 'anushya')\n",
            "('sailu', 'dharani', 'gautham', 'akshaya', 'anushya', 'sailu', 'dharani', 'gautham', 'akshaya', 'anushya', 'sailu', 'dharani', 'gautham', 'akshaya', 'anushya')\n"
          ]
        }
      ]
    }
  ]
}