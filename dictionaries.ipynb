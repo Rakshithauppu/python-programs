{
  "nbformat": 4,
  "nbformat_minor": 0,
  "metadata": {
    "colab": {
      "name": "dictionaries.ipynb",
      "provenance": [],
      "authorship_tag": "ABX9TyOoNjzKjFu/yOKWsaXYYayy",
      "include_colab_link": true
    },
    "kernelspec": {
      "name": "python3",
      "display_name": "Python 3"
    },
    "language_info": {
      "name": "python"
    }
  },
  "cells": [
    {
      "cell_type": "markdown",
      "metadata": {
        "id": "view-in-github",
        "colab_type": "text"
      },
      "source": [
        "<a href=\"https://colab.research.google.com/github/Rakshithauppu/python-programs/blob/main/dictionaries.ipynb\" target=\"_parent\"><img src=\"https://colab.research.google.com/assets/colab-badge.svg\" alt=\"Open In Colab\"/></a>"
      ]
    },
    {
      "cell_type": "markdown",
      "source": [
        "DICTIONARIES"
      ],
      "metadata": {
        "id": "hPDpGmQkdnP1"
      }
    },
    {
      "cell_type": "code",
      "execution_count": 9,
      "metadata": {
        "colab": {
          "base_uri": "https://localhost:8080/"
        },
        "id": "_G0OOWL-dQdw",
        "outputId": "b961a9ce-ca3e-44dc-a8bf-b661cb6de3b5"
      },
      "outputs": [
        {
          "output_type": "stream",
          "name": "stdout",
          "text": [
            "{'model': 'dairymilk', 'brand': 'cadbury', 'item': 'chocolate'}\n",
            "cadbury\n"
          ]
        }
      ],
      "source": [
        "myorder={\n",
        "    \"model\":\"dairymilk\",\n",
        "    \"brand\":\"cadbury\",\n",
        "    \"item\":\"chocolate\"\n",
        "}\n",
        "print(myorder)\n",
        "print(myorder[\"brand\"])"
      ]
    },
    {
      "cell_type": "markdown",
      "source": [
        "ACCESS DICTIONARY ITEMS"
      ],
      "metadata": {
        "id": "P-zIdKAUfAql"
      }
    },
    {
      "cell_type": "code",
      "source": [
        "#accessing items\n",
        "myorder={\n",
        "    \"model\":\"dairymilk\",\n",
        "    \"brand\":\"cadbury\",\n",
        "    \"item\":\"chocolate\"\n",
        "}\n",
        "x=myorder.get(\"model\")"
      ],
      "metadata": {
        "id": "AVgmqIRDfEnF"
      },
      "execution_count": 12,
      "outputs": []
    }
  ]
}