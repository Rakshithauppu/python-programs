{
  "nbformat": 4,
  "nbformat_minor": 0,
  "metadata": {
    "colab": {
      "name": "dictionaries.ipynb",
      "provenance": [],
      "authorship_tag": "ABX9TyNnbiZ5sB6qpQFgTiKMqIWC",
      "include_colab_link": true
    },
    "kernelspec": {
      "name": "python3",
      "display_name": "Python 3"
    },
    "language_info": {
      "name": "python"
    }
  },
  "cells": [
    {
      "cell_type": "markdown",
      "metadata": {
        "id": "view-in-github",
        "colab_type": "text"
      },
      "source": [
        "<a href=\"https://colab.research.google.com/github/Rakshithauppu/python-programs/blob/main/dictionaries.ipynb\" target=\"_parent\"><img src=\"https://colab.research.google.com/assets/colab-badge.svg\" alt=\"Open In Colab\"/></a>"
      ]
    },
    {
      "cell_type": "markdown",
      "source": [
        "DICTIONARIES"
      ],
      "metadata": {
        "id": "hPDpGmQkdnP1"
      }
    },
    {
      "cell_type": "code",
      "execution_count": 22,
      "metadata": {
        "colab": {
          "base_uri": "https://localhost:8080/"
        },
        "id": "_G0OOWL-dQdw",
        "outputId": "a3044af2-8996-4532-8b38-ddb24d54a840"
      },
      "outputs": [
        {
          "output_type": "stream",
          "name": "stdout",
          "text": [
            "{'model': 'dairymilk', 'brand': 'cadbury', 'item': 'chocolate', 'colors': ['black', 'orange', 'blue']}\n",
            "cadbury\n",
            "<class 'dict'>\n"
          ]
        }
      ],
      "source": [
        "myorder={\n",
        "    \"model\":\"dairymilk\",\n",
        "    \"brand\":\"cadbury\",\n",
        "    \"item\":\"chocolate\",\n",
        "    \"flavours\": [\"black\", \"orange\", \"blue\"]\n",
        "}\n",
        "print(myorder)\n",
        "print(myorder[\"brand\"])\n",
        "print(type(myorder))"
      ]
    },
    {
      "cell_type": "markdown",
      "source": [
        "ACCESS DICTIONARY ITEMS"
      ],
      "metadata": {
        "id": "P-zIdKAUfAql"
      }
    },
    {
      "cell_type": "code",
      "source": [
        "#accessing items\n",
        "myorder={\n",
        "    \"model\":\"dairymilk\",\n",
        "    \"brand\":\"cadbury\",\n",
        "    \"item\":\"chocolate\"\n",
        "}\n",
        "x=myorder.get(\"model\")\n",
        "print(x)\n",
        "\n",
        "#get keys\n",
        "myorder={\n",
        "    \"model\":\"dairymilk\",\n",
        "    \"brand\":\"cadbury\",\n",
        "    \"item\":\"chocolate\"\n",
        "}\n",
        "x=myorder.keys()\n",
        "print(x)\n",
        "\n",
        "bike={\n",
        "    \"brand\":\"bajaj\",\n",
        "    \"model\":\"KTM\",\n",
        "    \"year\":\"1934\"\n",
        "}\n",
        "x=bike.keys()\n",
        "print(x)\n",
        "bike[\"color\"]=\"red\"\n",
        "print(x)\n",
        "\n",
        "#get values\n",
        "bike={\n",
        "    \"brand\":\"bajaj\",\n",
        "    \"model\":\"KTM\",\n",
        "    \"year\":\"1934\"\n",
        "}\n",
        "x=bike.values()\n",
        "print(x)\n",
        "bike[\"color\"]=\"red\"\n",
        "print(x)\n",
        "\n",
        "#get items\n",
        "bike={\n",
        "    \"brand\":\"bajaj\",\n",
        "    \"model\":\"KTM\",\n",
        "    \"year\":\"1934\",\n",
        "    \"color\":\"black\"\n",
        "}\n",
        "x=bike.items()\n",
        "print(x)\n",
        "\n",
        "#check if key exists\n",
        "bike={\n",
        "    \"brand\":\"bajaj\",\n",
        "    \"model\":\"KTM\",\n",
        "    \"year\":\"1934\"\n",
        "}\n",
        "if \"model\" in bike:\n",
        "  print(\"yes,'model' is one of the keys in the bike dictionary\")"
      ],
      "metadata": {
        "id": "AVgmqIRDfEnF",
        "outputId": "97f12d9e-7a8c-4488-c3a7-a345a154017f",
        "colab": {
          "base_uri": "https://localhost:8080/"
        }
      },
      "execution_count": 17,
      "outputs": [
        {
          "output_type": "stream",
          "name": "stdout",
          "text": [
            "dairymilk\n",
            "dict_keys(['model', 'brand', 'item'])\n",
            "dict_keys(['brand', 'model', 'year'])\n",
            "dict_keys(['brand', 'model', 'year', 'color'])\n",
            "dict_values(['bajaj', 'KTM', '1934'])\n",
            "dict_values(['bajaj', 'KTM', '1934', 'red'])\n",
            "dict_items([('brand', 'bajaj'), ('model', 'KTM'), ('year', '1934'), ('color', 'black')])\n",
            "yes,'model' is one of the keys in the bike dictionary\n"
          ]
        }
      ]
    },
    {
      "cell_type": "markdown",
      "source": [
        "CHANGE VALUES"
      ],
      "metadata": {
        "id": "xUITRHrY3AgZ"
      }
    },
    {
      "cell_type": "code",
      "source": [
        "bike={\n",
        "    \"brand\":\"bajaj\",\n",
        "    \"model\":\"KTM\",\n",
        "    \"year\":\"1934\",\n",
        "    \"color\":\"red\"\n",
        "}\n",
        "bike[\"year\"]=2022\n",
        "print(bike)\n",
        "\n",
        "bike.update({\"color\":\"black\"})\n",
        "print(bike)"
      ],
      "metadata": {
        "id": "_VhwmRnd3Cgf",
        "outputId": "b685fb32-9e6f-4624-9e11-1a8a86d613e1",
        "colab": {
          "base_uri": "https://localhost:8080/"
        }
      },
      "execution_count": 21,
      "outputs": [
        {
          "output_type": "stream",
          "name": "stdout",
          "text": [
            "{'brand': 'bajaj', 'model': 'KTM', 'year': 2022, 'color': 'red'}\n",
            "{'brand': 'bajaj', 'model': 'KTM', 'year': 2022, 'color': 'black'}\n"
          ]
        }
      ]
    },
    {
      "cell_type": "markdown",
      "source": [
        "ADDING ITEMS"
      ],
      "metadata": {
        "id": "JgU8B8BP5CO2"
      }
    },
    {
      "cell_type": "code",
      "source": [
        "bike={\n",
        "    \"brand\":\"bajaj\",\n",
        "    \"model\":\"KTM\",\n",
        "    \"year\":\"1934\"\n",
        "}\n",
        "bike[\"color\"]=\"red\"\n",
        "print(bike)"
      ],
      "metadata": {
        "id": "yq5HMRYc5D7a",
        "outputId": "9f9cea65-b00d-487d-ea95-ddfa4bbbfcf1",
        "colab": {
          "base_uri": "https://localhost:8080/"
        }
      },
      "execution_count": 23,
      "outputs": [
        {
          "output_type": "stream",
          "name": "stdout",
          "text": [
            "{'brand': 'bajaj', 'model': 'KTM', 'year': '1934', 'color': 'red'}\n"
          ]
        }
      ]
    },
    {
      "cell_type": "markdown",
      "source": [
        "REMOVING ITEMS"
      ],
      "metadata": {
        "id": "rW221s5x5-7B"
      }
    },
    {
      "cell_type": "code",
      "source": [
        "bike={\n",
        "    \"brand\":\"bajaj\",\n",
        "    \"model\":\"KTM\",\n",
        "    \"year\":\"1934\",\n",
        "    \"color\":\"red\"\n",
        "}\n",
        "print(bike)\n",
        "bike.pop(\"color\")\n",
        "print(bike)\n",
        "bike.popitem()\n",
        "print(bike)\n",
        "del bike[\"brand\"]\n",
        "print(bike)"
      ],
      "metadata": {
        "id": "4XPT-PAG6CPn",
        "outputId": "b315decd-caac-4586-9663-ad5c3b3a31d7",
        "colab": {
          "base_uri": "https://localhost:8080/"
        }
      },
      "execution_count": 31,
      "outputs": [
        {
          "output_type": "stream",
          "name": "stdout",
          "text": [
            "{'brand': 'bajaj', 'model': 'KTM', 'year': '1934', 'color': 'red'}\n",
            "{'brand': 'bajaj', 'model': 'KTM', 'year': '1934'}\n",
            "{'brand': 'bajaj', 'model': 'KTM'}\n",
            "{'model': 'KTM'}\n"
          ]
        }
      ]
    },
    {
      "cell_type": "markdown",
      "source": [
        "LOOP DICTIONARIES\n"
      ],
      "metadata": {
        "id": "xBhkK3tU7VsR"
      }
    },
    {
      "cell_type": "code",
      "source": [
        "bike={\n",
        "    \"brand\":\"bajaj\",\n",
        "    \"model\":\"KTM\",\n",
        "    \"year\":\"1934\",\n",
        "    \"color\":\"red\"\n",
        "}\n",
        "for x in bike:\n",
        "  print(x)\n",
        "\n",
        "for x in bike:\n",
        "  print(bike[x])\n",
        "\n",
        "for x in bike.values():\n",
        "  print(x)\n",
        "\n",
        "for x in bike.keys():\n",
        "  print(x)\n",
        "\n",
        "for x,y in bike.items():\n",
        "  print(x,y)"
      ],
      "metadata": {
        "id": "boWptDIh7X3O",
        "outputId": "247ad045-35ae-4392-bb96-ad31f72230c9",
        "colab": {
          "base_uri": "https://localhost:8080/"
        }
      },
      "execution_count": 37,
      "outputs": [
        {
          "output_type": "stream",
          "name": "stdout",
          "text": [
            "brand\n",
            "model\n",
            "year\n",
            "color\n",
            "bajaj\n",
            "KTM\n",
            "1934\n",
            "red\n",
            "bajaj\n",
            "KTM\n",
            "1934\n",
            "red\n",
            "brand\n",
            "model\n",
            "year\n",
            "color\n",
            "brand bajaj\n",
            "model KTM\n",
            "year 1934\n",
            "color red\n"
          ]
        }
      ]
    },
    {
      "cell_type": "markdown",
      "source": [
        "COPY DICTIONARIES"
      ],
      "metadata": {
        "id": "gaoOY6_w8yqW"
      }
    },
    {
      "cell_type": "code",
      "source": [
        "bike={\n",
        "    \"brand\":\"bajaj\",\n",
        "    \"model\":\"KTM\",\n",
        "    \"year\":\"1934\",\n",
        "    \"color\":\"red\"\n",
        "}\n",
        "print(bike)\n",
        "x=bike.copy()\n",
        "print(x)\n",
        "\n",
        "a=dict(bike)\n",
        "print(a)"
      ],
      "metadata": {
        "id": "jqVR9OiH818S",
        "outputId": "f8de1313-7a41-4906-a4ce-d1e62923e2ae",
        "colab": {
          "base_uri": "https://localhost:8080/"
        }
      },
      "execution_count": 40,
      "outputs": [
        {
          "output_type": "stream",
          "name": "stdout",
          "text": [
            "{'brand': 'bajaj', 'model': 'KTM', 'year': '1934', 'color': 'red'}\n",
            "{'brand': 'bajaj', 'model': 'KTM', 'year': '1934', 'color': 'red'}\n",
            "{'brand': 'bajaj', 'model': 'KTM', 'year': '1934', 'color': 'red'}\n"
          ]
        }
      ]
    },
    {
      "cell_type": "markdown",
      "source": [
        "NESTED DICTIONARIES"
      ],
      "metadata": {
        "id": "yUOibcPGB1Q2"
      }
    },
    {
      "cell_type": "code",
      "source": [
        "myfriends={\n",
        "    \"friend1\":{\n",
        "      \"name\":\"Dharani\",\n",
        "      \"year\":2004\n",
        "    },\n",
        "    \"friend2\":{\n",
        "      \"name\":\"Gautham\",\n",
        "      \"year\":2003\n",
        "    },\n",
        "    \"friend3\":{\n",
        "      \"name\":\"Anushya\",\n",
        "      \"year\":2003\n",
        "    },\n",
        "    \"friend4\":{\n",
        "      \"name\":\"Bhavana\",\n",
        "      \"year\":2004\n",
        "    }\n",
        "}\n",
        "print(myfriends)z"
      ],
      "metadata": {
        "id": "jKvXW745B8oy",
        "outputId": "4fbdbbe5-fb40-4b6a-ec21-d62fd67aabec",
        "colab": {
          "base_uri": "https://localhost:8080/"
        }
      },
      "execution_count": 42,
      "outputs": [
        {
          "output_type": "stream",
          "name": "stdout",
          "text": [
            "{'friend1': {'name': 'Dharani', 'year': 2004}, 'friend2': {'name': 'Gautham', 'year': 2003}, 'friend3': {'name': 'Anushya', 'year': 2003}, 'friend4': {'name': 'Bhavana', 'year': 2004}}\n",
            "friend1\n",
            "friend2\n",
            "friend3\n",
            "friend4\n"
          ]
        }
      ]
    }
  ]
}