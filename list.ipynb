{
  "nbformat": 4,
  "nbformat_minor": 0,
  "metadata": {
    "colab": {
      "name": "list.ipynb",
      "provenance": [],
      "authorship_tag": "ABX9TyP9jwKzYRg9t+FTint/ERqc",
      "include_colab_link": true
    },
    "kernelspec": {
      "name": "python3",
      "display_name": "Python 3"
    },
    "language_info": {
      "name": "python"
    }
  },
  "cells": [
    {
      "cell_type": "markdown",
      "metadata": {
        "id": "view-in-github",
        "colab_type": "text"
      },
      "source": [
        "<a href=\"https://colab.research.google.com/github/Rakshithauppu/python-programs/blob/main/list.ipynb\" target=\"_parent\"><img src=\"https://colab.research.google.com/assets/colab-badge.svg\" alt=\"Open In Colab\"/></a>"
      ]
    },
    {
      "cell_type": "markdown",
      "source": [
        "PRINTING LISTS\n"
      ],
      "metadata": {
        "id": "9k3ke41HpL9s"
      }
    },
    {
      "cell_type": "code",
      "source": [
        "fruit=[\"apple\",\"mango\",\"pineapple\",\"goa\"]\n",
        "print(fruit)\n"
      ],
      "metadata": {
        "colab": {
          "base_uri": "https://localhost:8080/"
        },
        "id": "S_WYOTHxX2kH",
        "outputId": "90279584-aa24-4e8e-d579-cdf2a6efe57d"
      },
      "execution_count": 1,
      "outputs": [
        {
          "output_type": "stream",
          "name": "stdout",
          "text": [
            "['apple', 'mango', 'pineapple', 'goa']\n"
          ]
        }
      ]
    },
    {
      "cell_type": "markdown",
      "source": [
        "ACCESSING LIST"
      ],
      "metadata": {
        "id": "7n6UgGDQpqPP"
      }
    },
    {
      "cell_type": "code",
      "source": [
        "fruit=[\"apple\",\"mango\",\"pineapple\",\"goa\"]\n",
        "print(fruit)\n",
        "\n",
        "#PRINT THE FIRST ITEM OF THE LIST\n",
        "print(fruit[0])\n",
        "\n",
        "#NEGATIVE INDEXING\n",
        "print(fruit[-1])\n",
        "\n",
        "#RANGE OF INDEXES\n",
        "print(fruit[0:2])\n",
        "print(fruit[:2])\n",
        "print(fruit[1:3])\n",
        "print(fruit[1:])\n",
        "print(fruit[3:])"
      ],
      "metadata": {
        "id": "Z9FkDKd2puyL",
        "outputId": "4b5585e3-c724-4b3a-ace9-d029e36d705c",
        "colab": {
          "base_uri": "https://localhost:8080/"
        }
      },
      "execution_count": 6,
      "outputs": [
        {
          "output_type": "stream",
          "name": "stdout",
          "text": [
            "['apple', 'mango', 'pineapple', 'goa']\n",
            "apple\n",
            "goa\n",
            "['apple', 'mango']\n",
            "['apple', 'mango']\n",
            "['mango', 'pineapple']\n",
            "['mango', 'pineapple', 'goa']\n",
            "['goa']\n"
          ]
        }
      ]
    },
    {
      "cell_type": "markdown",
      "source": [
        "CHANGING LIST ITEMS"
      ],
      "metadata": {
        "id": "Y9jKUlmMqATo"
      }
    },
    {
      "cell_type": "code",
      "source": [
        "fruit=[\"apple\",\"mango\",\"pineapple\",\"goa\"]\n",
        "print(fruit)\n",
        "fruit[1:3]=[\"watermelon\"]\n",
        "print(fruit)\n",
        "fruit[2:3]=[\"orange\",\"kiwi\"]\n",
        "print(fruit)\n"
      ],
      "metadata": {
        "colab": {
          "base_uri": "https://localhost:8080/"
        },
        "id": "A1Gr7sM3i3ST",
        "outputId": "9a30876c-c062-4284-e6fa-1aa6a58088c0"
      },
      "execution_count": 9,
      "outputs": [
        {
          "output_type": "stream",
          "name": "stdout",
          "text": [
            "['apple', 'mango', 'pineapple', 'goa']\n",
            "['apple', 'watermelon', 'goa']\n",
            "['apple', 'watermelon', 'orange', 'kiwi']\n"
          ]
        }
      ]
    },
    {
      "cell_type": "markdown",
      "source": [
        "EXTENDING THE ITEMS"
      ],
      "metadata": {
        "id": "vVlJAKZNtAPO"
      }
    },
    {
      "cell_type": "code",
      "source": [
        "fruit=[\"apple\",\"mango\",\"pineapple\",\"goa\"]\n",
        "print(fruit)\n",
        "fruit[2:3]=\"papaya\"\n",
        "print(fruit)"
      ],
      "metadata": {
        "id": "MdVaAyU9tENn",
        "outputId": "f3945ec0-c63e-46cb-8422-ad4d54336a61",
        "colab": {
          "base_uri": "https://localhost:8080/"
        }
      },
      "execution_count": 10,
      "outputs": [
        {
          "output_type": "stream",
          "name": "stdout",
          "text": [
            "['apple', 'mango', 'pineapple', 'goa']\n",
            "['apple', 'mango', 'p', 'a', 'p', 'a', 'y', 'a', 'goa']\n"
          ]
        }
      ]
    },
    {
      "cell_type": "markdown",
      "source": [
        "ADDING LIST ITEMS\n"
      ],
      "metadata": {
        "id": "cujxUsnjZ92Z"
      }
    },
    {
      "cell_type": "code",
      "source": [
        "fruit=[\"apple\",\"mango\",\"pineapple\",\"goa\"]\n",
        "print(fruit)\n",
        "\n",
        "#APPEND\n",
        "fruit.append(\"banana\")\n",
        "print(fruit)\n",
        "\n",
        "#INSERTING\n",
        "fruit.insert(4,\"orange\")\n",
        "print(fruit)\n",
        "fruit.insert(1,\"kiwi\")\n",
        "print(fruit)\n",
        "\n",
        "#EXTENDING LIST\n",
        "extra=(\"watermelon\",\"papaya\")\n",
        "fruit.extend(extra)\n",
        "print(fruit)\n"
      ],
      "metadata": {
        "colab": {
          "base_uri": "https://localhost:8080/"
        },
        "id": "WVRJ9MOgaP0n",
        "outputId": "f89e133b-abd4-49ec-dbd9-c3f36b5c9d99"
      },
      "execution_count": 15,
      "outputs": [
        {
          "output_type": "stream",
          "name": "stdout",
          "text": [
            "['apple', 'mango', 'pineapple', 'goa']\n",
            "['apple', 'mango', 'pineapple', 'goa', 'banana']\n",
            "['apple', 'mango', 'pineapple', 'goa', 'orange', 'banana']\n",
            "['apple', 'kiwi', 'mango', 'pineapple', 'goa', 'orange', 'banana']\n",
            "['apple', 'kiwi', 'mango', 'pineapple', 'goa', 'orange', 'banana', 'watermelon', 'papaya']\n"
          ]
        }
      ]
    },
    {
      "cell_type": "markdown",
      "source": [
        "REMOVING LIST ITEMS"
      ],
      "metadata": {
        "id": "DdLSjqVnx0eo"
      }
    },
    {
      "cell_type": "code",
      "source": [
        "fruit=[\"apple\",\"mango\",\"pineapple\",\"goa\"]\n",
        "print(fruit)\n",
        "\n",
        "#REMOVING LIST ITEM\n",
        "fruit.remove(\"pineapple\")\n",
        "print(fruit)\n",
        "\n",
        "#POP AND REMOVE ARE SAME\n",
        "fruit.pop(1)\n",
        "print(fruit)\n",
        "\n",
        "#DELETE\n",
        "del fruit[0]\n",
        "print(fruit)\n",
        "\n",
        "#CLEARING THE LIST\n",
        "fruit.clear()\n",
        "print(fruit)\n",
        "\n"
      ],
      "metadata": {
        "colab": {
          "base_uri": "https://localhost:8080/"
        },
        "id": "-WDCmlxye4-J",
        "outputId": "b3a93d4d-3576-41da-f4fe-24ef33fbf684"
      },
      "execution_count": 19,
      "outputs": [
        {
          "output_type": "stream",
          "name": "stdout",
          "text": [
            "['apple', 'mango', 'pineapple', 'goa']\n",
            "['apple', 'mango', 'goa']\n",
            "['apple', 'goa']\n",
            "['goa']\n",
            "[]\n"
          ]
        }
      ]
    },
    {
      "cell_type": "markdown",
      "source": [
        "LOOP LISTS"
      ],
      "metadata": {
        "id": "whpfNzH90GRr"
      }
    },
    {
      "cell_type": "code",
      "source": [
        "fruit=[\"sowmya\",\"anushya\",\"bhavana\"]\n",
        "print(fruit)\n",
        "\n",
        "#FOR LOOP\n",
        "for x in fruit:\n",
        "  print(x)\n",
        "\n",
        "#RANGE\n",
        "for i in range(len(fruit)):\n",
        "  print(fruit[1])\n",
        "\n",
        "#WHILE LOOP\n",
        "i=0\n",
        "while i < len(fruit):\n",
        "  print(fruit[i])\n",
        "  i=i+1\n",
        "\n",
        "#FOR LOOP\n",
        "[print(x) for x in fruit]"
      ],
      "metadata": {
        "id": "_cVOJoopxihA",
        "outputId": "a9f2869d-2619-4e07-92be-d9c06127eb0f",
        "colab": {
          "base_uri": "https://localhost:8080/"
        }
      },
      "execution_count": 21,
      "outputs": [
        {
          "output_type": "stream",
          "name": "stdout",
          "text": [
            "['sowmya', 'anushya', 'bhavana']\n",
            "sowmya\n",
            "anushya\n",
            "bhavana\n",
            "anushya\n",
            "anushya\n",
            "anushya\n",
            "sowmya\n",
            "anushya\n",
            "bhavana\n",
            "sowmya\n",
            "anushya\n",
            "bhavana\n"
          ]
        },
        {
          "output_type": "execute_result",
          "data": {
            "text/plain": [
              "[None, None, None]"
            ]
          },
          "metadata": {},
          "execution_count": 21
        }
      ]
    },
    {
      "cell_type": "markdown",
      "source": [
        "LIST OF COMPREHENSION"
      ],
      "metadata": {
        "id": "ZWfJicu81vJ1"
      }
    },
    {
      "cell_type": "code",
      "source": [
        "fruit=[\"sowmya\",\"anushya\",\"bhavana\"]\n",
        "monkeys=[x for x in fruit if \"y\" in x]\n",
        "print(monkeys)\n",
        "\n",
        "monkeys=[x for x in fruit if x != \"sowmya\"]\n",
        "print(monkeys)\n",
        "\n",
        "monkeys=[x for x in fruit]\n",
        "print(monkeys)\n",
        "\n",
        "monkeys=[x for x in range(11)]\n",
        "print(monkeys)\n",
        "\n",
        "monkeys=[x for x in range(9) if x<5]\n",
        "print(monkeys)\n",
        "\n",
        "monkeys=[x.upper()for x in fruit]\n",
        "print(monkeys)\n",
        "\n",
        "monkeys=['hello' for x in fruit]\n",
        "print(monkeys)\n",
        "\n",
        "monkeys=[x if x !=\"sowmya\" else \"akhila\" for x in fruit]\n",
        "print(monkeys)"
      ],
      "metadata": {
        "id": "-lcJ2NUPyZqZ",
        "outputId": "276d9164-5b8c-4474-ab52-f898bbe1d6dd",
        "colab": {
          "base_uri": "https://localhost:8080/"
        }
      },
      "execution_count": 39,
      "outputs": [
        {
          "output_type": "stream",
          "name": "stdout",
          "text": [
            "['sowmya', 'anushya']\n",
            "['anushya', 'bhavana']\n",
            "['sowmya', 'anushya', 'bhavana']\n",
            "[0, 1, 2, 3, 4, 5, 6, 7, 8, 9, 10]\n",
            "[0, 1, 2, 3, 4]\n",
            "['SOWMYA', 'ANUSHYA', 'BHAVANA']\n",
            "['hello', 'hello', 'hello']\n",
            "['akhila', 'anushya', 'bhavana']\n"
          ]
        }
      ]
    },
    {
      "cell_type": "code",
      "source": [
        ""
      ],
      "metadata": {
        "id": "py6d7X9_7po3"
      },
      "execution_count": null,
      "outputs": []
    }
  ]
}