{
  "nbformat": 4,
  "nbformat_minor": 0,
  "metadata": {
    "colab": {
      "name": "list.ipynb",
      "provenance": [],
      "authorship_tag": "ABX9TyNKdlBC7YE9KrZykHB+5Dso",
      "include_colab_link": true
    },
    "kernelspec": {
      "name": "python3",
      "display_name": "Python 3"
    },
    "language_info": {
      "name": "python"
    }
  },
  "cells": [
    {
      "cell_type": "markdown",
      "metadata": {
        "id": "view-in-github",
        "colab_type": "text"
      },
      "source": [
        "<a href=\"https://colab.research.google.com/github/Rakshithauppu/python-programs/blob/main/list.ipynb\" target=\"_parent\"><img src=\"https://colab.research.google.com/assets/colab-badge.svg\" alt=\"Open In Colab\"/></a>"
      ]
    },
    {
      "cell_type": "code",
      "source": [
        "#PRINTING LISTS\n",
        "fruit=[\"apple\",\"mango\",\"pineapple\",\"goa\"]\n",
        "print(fruit)\n",
        "#ACCESSING LIST\n",
        "print(fruit[0])\n",
        "print(fruit[-1])\n",
        "print(fruit[0:2])\n",
        "print(fruit[:2])\n",
        "print(fruit[1:2])\n",
        "print(fruit[1:])\n",
        "print(fruit[3:])"
      ],
      "metadata": {
        "colab": {
          "base_uri": "https://localhost:8080/"
        },
        "id": "S_WYOTHxX2kH",
        "outputId": "770c5f6d-1051-4c2c-de75-d8390795d7f8"
      },
      "execution_count": 49,
      "outputs": [
        {
          "output_type": "stream",
          "name": "stdout",
          "text": [
            "['apple', 'mango', 'pineapple', 'goa']\n",
            "apple\n",
            "goa\n",
            "['apple', 'mango']\n",
            "['apple', 'mango']\n",
            "[]\n",
            "['mango', 'pineapple', 'goa']\n",
            "['goa']\n"
          ]
        }
      ]
    },
    {
      "cell_type": "code",
      "source": [
        "#CHANGING LIST ITEMS\n",
        "fruit=[\"apple\",\"mango\",\"pineapple\",\"goa\"]\n",
        "print(fruit)\n",
        "fruit[1:3]=[\"watermelon\"]\n",
        "print(fruit)\n",
        "fruit[2:3]=[\"orange\",\"kiwi\"]\n",
        "print(fruit)\n",
        "#EXTENDING THE LIST\n",
        "fruit[2:4]=\"papaya\"\n",
        "print(fruit)"
      ],
      "metadata": {
        "colab": {
          "base_uri": "https://localhost:8080/"
        },
        "id": "A1Gr7sM3i3ST",
        "outputId": "b1d3ef2a-70ce-46e9-d497-afe7198d01a1"
      },
      "execution_count": 63,
      "outputs": [
        {
          "output_type": "stream",
          "name": "stdout",
          "text": [
            "['apple', 'mango', 'pineapple', 'goa']\n",
            "['apple', 'watermelon', 'goa']\n",
            "['apple', 'watermelon', 'orange', 'kiwi']\n",
            "['apple', 'watermelon', 'p', 'a', 'p', 'a', 'y', 'a']\n"
          ]
        }
      ]
    },
    {
      "cell_type": "markdown",
      "source": [
        "Append\n"
      ],
      "metadata": {
        "id": "cujxUsnjZ92Z"
      }
    },
    {
      "cell_type": "code",
      "source": [
        "fruit=[\"apple\",\"mango\",\"pineapple\",\"goa\"]\n",
        "print(fruit)\n",
        "#APPEND\n",
        "fruit.append(\"banana\")\n",
        "print(fruit)\n",
        "#INSERTING\n",
        "fruit.insert(4,\"orange\")\n",
        "print(fruit)\n",
        "fruit.insert(1,\"kiwi\")\n",
        "print(fruit)\n",
        "#REMOVE\n",
        "fruit.remove(\"pineapple\")\n",
        "print(fruit)"
      ],
      "metadata": {
        "colab": {
          "base_uri": "https://localhost:8080/"
        },
        "id": "WVRJ9MOgaP0n",
        "outputId": "1bac232f-55cc-4b31-d0ca-2cb71be6c258"
      },
      "execution_count": 33,
      "outputs": [
        {
          "output_type": "stream",
          "name": "stdout",
          "text": [
            "['apple', 'mango', 'pineapple', 'goa']\n",
            "['apple', 'mango', 'pineapple', 'goa', 'banana']\n",
            "['apple', 'mango', 'pineapple', 'goa', 'orange', 'banana']\n",
            "['apple', 'kiwi', 'mango', 'pineapple', 'goa', 'orange', 'banana']\n",
            "['apple', 'kiwi', 'mango', 'goa', 'orange', 'banana']\n"
          ]
        }
      ]
    },
    {
      "cell_type": "code",
      "source": [
        "numbers=[\"1\",\"2\",\"3\",\"4\",\"5\",\"6\"]\n",
        "print(numbers)\n",
        "#POP AND REMOVE ARE SAME\n",
        "numbers.pop(1)\n",
        "print(numbers)\n",
        "#DELETE\n",
        "del numbers[0]\n",
        "print(numbers)\n",
        "#CLEARING THE LIST\n",
        "numbers.clear()\n",
        "print(numbers)\n",
        "\n"
      ],
      "metadata": {
        "colab": {
          "base_uri": "https://localhost:8080/"
        },
        "id": "-WDCmlxye4-J",
        "outputId": "3ccf36cd-663f-43af-ce42-cbcaffa89d26"
      },
      "execution_count": 74,
      "outputs": [
        {
          "output_type": "stream",
          "name": "stdout",
          "text": [
            "['1', '2', '3', '4', '5', '6']\n",
            "['1', '3', '4', '5', '6']\n",
            "['3', '4', '5', '6']\n",
            "[]\n"
          ]
        }
      ]
    }
  ]
}