{
  "nbformat": 4,
  "nbformat_minor": 0,
  "metadata": {
    "colab": {
      "name": "string.ipynb",
      "provenance": [],
      "authorship_tag": "ABX9TyPZDj5DV6ho0uYRr+A3P8YE",
      "include_colab_link": true
    },
    "kernelspec": {
      "name": "python3",
      "display_name": "Python 3"
    },
    "language_info": {
      "name": "python"
    }
  },
  "cells": [
    {
      "cell_type": "markdown",
      "metadata": {
        "id": "view-in-github",
        "colab_type": "text"
      },
      "source": [
        "<a href=\"https://colab.research.google.com/github/Rakshithauppu/python-programs/blob/main/string.ipynb\" target=\"_parent\"><img src=\"https://colab.research.google.com/assets/colab-badge.svg\" alt=\"Open In Colab\"/></a>"
      ]
    },
    {
      "cell_type": "code",
      "execution_count": 2,
      "metadata": {
        "colab": {
          "base_uri": "https://localhost:8080/"
        },
        "id": "ZI0r5tIL7hyY",
        "outputId": "4973617c-d18a-4912-c549-a7d38aeb4625"
      },
      "outputs": [
        {
          "output_type": "stream",
          "name": "stdout",
          "text": [
            "string\n",
            "<class 'str'>\n",
            "r\n"
          ]
        }
      ],
      "source": [
        "#string\n",
        "a=\"string\"\n",
        "print(a)\n",
        "print(type(a))\n",
        "print(a[2])"
      ]
    },
    {
      "cell_type": "code",
      "source": [
        "#length\n",
        "a=\"hello string\"\n",
        "print(len(a))\n",
        "b=\"string\"\n",
        "print(len(b))\n",
        "c=\"rakshitha is a good girl\"\n",
        "print(\"bad\" in c)\n",
        "\n",
        "#not in\n",
        "print(\"bad\" not in c)\n",
        "\n",
        "#slicing\n",
        "print(a[2:5])"
      ],
      "metadata": {
        "colab": {
          "base_uri": "https://localhost:8080/"
        },
        "id": "ZZ2k18Wj8DIt",
        "outputId": "636a40aa-2c1b-4f92-bbbb-bdb0b7fb6e58"
      },
      "execution_count": 14,
      "outputs": [
        {
          "output_type": "stream",
          "name": "stdout",
          "text": [
            "12\n",
            "6\n",
            "False\n",
            "True\n",
            "llo\n"
          ]
        }
      ]
    }
  ]
}