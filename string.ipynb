{
  "nbformat": 4,
  "nbformat_minor": 0,
  "metadata": {
    "colab": {
      "name": "string.ipynb",
      "provenance": [],
      "authorship_tag": "ABX9TyPPqLb+sZKXM02+y5HfYyvt",
      "include_colab_link": true
    },
    "kernelspec": {
      "name": "python3",
      "display_name": "Python 3"
    },
    "language_info": {
      "name": "python"
    }
  },
  "cells": [
    {
      "cell_type": "markdown",
      "metadata": {
        "id": "view-in-github",
        "colab_type": "text"
      },
      "source": [
        "<a href=\"https://colab.research.google.com/github/Rakshithauppu/python-programs/blob/main/string.ipynb\" target=\"_parent\"><img src=\"https://colab.research.google.com/assets/colab-badge.svg\" alt=\"Open In Colab\"/></a>"
      ]
    },
    {
      "cell_type": "code",
      "execution_count": null,
      "metadata": {
        "colab": {
          "base_uri": "https://localhost:8080/"
        },
        "id": "ZI0r5tIL7hyY",
        "outputId": "4973617c-d18a-4912-c549-a7d38aeb4625"
      },
      "outputs": [
        {
          "output_type": "stream",
          "name": "stdout",
          "text": [
            "string\n",
            "<class 'str'>\n",
            "r\n"
          ]
        }
      ],
      "source": [
        "#string\n",
        "a=\"string\"\n",
        "print(a)\n",
        "print(type(a))\n",
        "print(a[2])"
      ]
    },
    {
      "cell_type": "code",
      "source": [
        "#length\n",
        "a=\"hello string\"\n",
        "print(len(a))\n",
        "b=\"string\"\n",
        "print(len(b))\n",
        "c=\"rakshitha is a good girl\"\n",
        "print(\"bad\" in c)\n",
        "\n",
        "#not in\n",
        "print(\"bad\" not in c)\n",
        "\n",
        "#slicing\n",
        "print(a[2:5])"
      ],
      "metadata": {
        "colab": {
          "base_uri": "https://localhost:8080/"
        },
        "id": "ZZ2k18Wj8DIt",
        "outputId": "636a40aa-2c1b-4f92-bbbb-bdb0b7fb6e58"
      },
      "execution_count": null,
      "outputs": [
        {
          "output_type": "stream",
          "name": "stdout",
          "text": [
            "12\n",
            "6\n",
            "False\n",
            "True\n",
            "llo\n"
          ]
        }
      ]
    },
    {
      "cell_type": "markdown",
      "source": [
        "MODIFY STRINGS\n"
      ],
      "metadata": {
        "id": "2kXFWA96YPdb"
      }
    },
    {
      "cell_type": "code",
      "source": [
        "#UPPER CASE\n",
        "a=\"RRR movie is fantastic\"\n",
        "print(a.upper())\n",
        "\n",
        "#LOWER CASE\n",
        "a=\"RRR movie is fantastic\"\n",
        "print(a.lower())\n",
        "\n",
        "#STRIP CASE\n",
        "a=    \"            RRR movie is fantastic\"\n",
        "print(a.strip())\n",
        "\n",
        "#REPLACE CASE\n",
        "a=\"RRR movie is fantastic\"\n",
        "print(a.replace(\"RRR\",\"radhe shyam\"))\n",
        "print(a.replace(\"i\",\"e\"))\n",
        "\n",
        "#SPLIT CASE\n",
        "a=\"RRR movie is fantastic\"\n",
        "print(a.split())\n",
        "\n",
        "b=\"RRR,movie is fantastic\"\n",
        "print(b.split(','))"
      ],
      "metadata": {
        "id": "YieKfuIVYJw4",
        "outputId": "62c76d6e-90a0-4065-c14d-b5c2d3313864",
        "colab": {
          "base_uri": "https://localhost:8080/"
        }
      },
      "execution_count": 24,
      "outputs": [
        {
          "output_type": "stream",
          "name": "stdout",
          "text": [
            "RRR MOVIE IS FANTASTIC\n",
            "rrr movie is fantastic\n",
            "RRR movie is fantastic\n",
            "radhe shyam movie is fantastic\n",
            "RRR movee es fantastec\n",
            "['RRR', 'movie', 'is', 'fantastic']\n",
            "['RRR', 'movie is fantastic']\n"
          ]
        }
      ]
    },
    {
      "cell_type": "markdown",
      "source": [
        "CONCATENATE STRINGS"
      ],
      "metadata": {
        "id": "SkpiBwRYeE4S"
      }
    },
    {
      "cell_type": "code",
      "source": [
        "a=\"my friends \"\n",
        "b=\"are crazy monkeys\"\n",
        "c=a+b\n",
        "print(c)\n",
        "print(a+\"\"+b)\n"
      ],
      "metadata": {
        "id": "Zc9QE6jxeESs",
        "outputId": "3dc97b77-040a-493c-fb9a-0620f6e3cab2",
        "colab": {
          "base_uri": "https://localhost:8080/"
        }
      },
      "execution_count": 32,
      "outputs": [
        {
          "output_type": "stream",
          "name": "stdout",
          "text": [
            "my friends are crazy monkeys\n",
            "my friends are crazy monkeys\n"
          ]
        }
      ]
    },
    {
      "cell_type": "markdown",
      "source": [
        "FORMAT STRINGS"
      ],
      "metadata": {
        "id": "MZdUL6F_lk02"
      }
    },
    {
      "cell_type": "code",
      "source": [
        "a=123\n",
        "b=\"hello{}\"\n",
        "print(b.format(a,b))\n",
        "\n",
        "price=100\n",
        "quantity=3\n",
        "name=\"thumpsup\"\n",
        "myorder=\"i bought {} {} of price {}\"\n",
        "print(myorder.format(quantity,name,price))\n",
        "\n",
        "name=\"rakshitha\"\n",
        "quantity=5\n",
        "quality=\"good\"\n",
        "sentence=\"{} has {} number of {} friends\"\n",
        "print(sentence.format(name,quantity,quality))\n",
        "\n",
        "\n",
        "sub1=int(input(\"enter cse marks:\"))\n",
        "sub2=int(input(\"enter chem marks:\"))\n",
        "sub3=int(input(\"enter eng marks:\"))\n",
        "sub4=int(input(\"enter maths marks:\"))\n",
        "marks=\"my cse marks are {} ,chem marks are {} ,eng marks are {} ,maths marks are {}\"\n",
        "print(marks.format(sub1,sub2,sub3,sub4))\n"
      ],
      "metadata": {
        "id": "vCji1AJMgGWj",
        "outputId": "b4826bf7-85d5-4433-a339-ed45f4b6a1ca",
        "colab": {
          "base_uri": "https://localhost:8080/"
        }
      },
      "execution_count": 43,
      "outputs": [
        {
          "output_type": "stream",
          "name": "stdout",
          "text": [
            "hello123\n",
            "i bought 3 thumpsup of price 100\n",
            "rakshitha has 5 number of good friends\n",
            "enter cse marks:23\n",
            "enter chem marks:19\n",
            "enter eng marks:26\n",
            "enter maths marks:20\n",
            "my cse marks are 23 ,chem marks are 19 ,eng marks are 26 ,maths marks are 20\n"
          ]
        }
      ]
    },
    {
      "cell_type": "markdown",
      "source": [
        "ESCAPE STRINGS"
      ],
      "metadata": {
        "id": "aEajGPS_lqy2"
      }
    },
    {
      "cell_type": "code",
      "source": [
        "#CHARACTERS\n",
        "a=\"hello rakshitha \\\"hiii\\\"\"\n",
        "print(a)\n",
        "\n",
        "b=\"hello \\nbharat\"\n",
        "print(b)\n",
        "\n",
        "c=\"hello \\tbharat\"\n",
        "print(c)\n",
        "\n",
        "d=\"hello\\bbharat\"\n",
        "print(d)\n",
        "\n",
        "e=\"hello \\fbharat\"\n",
        "print(e)\n",
        "\n",
        "f=\"\\110\\145\\154\\154\\157\"\n",
        "print(f)"
      ],
      "metadata": {
        "id": "BD_qqlwRls59",
        "outputId": "daf28c7a-3969-477b-f851-4b5caeea89e0",
        "colab": {
          "base_uri": "https://localhost:8080/"
        }
      },
      "execution_count": 70,
      "outputs": [
        {
          "output_type": "stream",
          "name": "stdout",
          "text": [
            "hello rakshitha \"hiii\"\n",
            "hello \n",
            "bharat\n",
            "hello \tbharat\n",
            "hello\bbharat\n",
            "hello \fbharat\n",
            "Hello\n"
          ]
        }
      ]
    },
    {
      "cell_type": "markdown",
      "source": [
        "STRING METHODS"
      ],
      "metadata": {
        "id": "WfM-6aonqd5j"
      }
    },
    {
      "cell_type": "code",
      "source": [
        "a=\"Rakshitha\"\n",
        "b=a.capitalize()\n",
        "print(b)\n",
        "\n",
        "c=a.casefold()\n",
        "print(c)\n",
        "\n",
        "d=a.center(45)\n",
        "print(d)\n",
        "\n",
        "a=\"hello world welcome to my world\"\n",
        "b=a.count(\"\")\n",
        "print(b)\n",
        "print(len(a))"
      ],
      "metadata": {
        "id": "4HUeejCBqgJh",
        "outputId": "7fc55b77-c4bd-4864-b47d-966218669492",
        "colab": {
          "base_uri": "https://localhost:8080/"
        }
      },
      "execution_count": 79,
      "outputs": [
        {
          "output_type": "stream",
          "name": "stdout",
          "text": [
            "Rakshitha\n",
            "rakshitha\n",
            "                  Rakshitha                  \n",
            "32\n",
            "31\n"
          ]
        }
      ]
    }
  ]
}