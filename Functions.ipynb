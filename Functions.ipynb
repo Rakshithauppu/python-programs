{
  "nbformat": 4,
  "nbformat_minor": 0,
  "metadata": {
    "colab": {
      "name": "Functions.ipynb",
      "provenance": [],
      "authorship_tag": "ABX9TyOXexX7yLo+nXZ0xu/Zjie/",
      "include_colab_link": true
    },
    "kernelspec": {
      "name": "python3",
      "display_name": "Python 3"
    },
    "language_info": {
      "name": "python"
    }
  },
  "cells": [
    {
      "cell_type": "markdown",
      "metadata": {
        "id": "view-in-github",
        "colab_type": "text"
      },
      "source": [
        "<a href=\"https://colab.research.google.com/github/Rakshithauppu/python-programs/blob/main/Functions.ipynb\" target=\"_parent\"><img src=\"https://colab.research.google.com/assets/colab-badge.svg\" alt=\"Open In Colab\"/></a>"
      ]
    },
    {
      "cell_type": "code",
      "execution_count": 6,
      "metadata": {
        "colab": {
          "base_uri": "https://localhost:8080/"
        },
        "id": "VrCPo2ZiPiTX",
        "outputId": "99eb3b22-533e-427d-bc65-9ebed875e104"
      },
      "outputs": [
        {
          "output_type": "stream",
          "name": "stdout",
          "text": [
            "Hello from Rakshitha\n",
            "Bhanu Hello from Rakshitha\n",
            "Dhanush Hello from Rakshitha\n",
            "Bhavana Hello from Rakshitha\n",
            "Bhavana Indhukuri is bad gal\n",
            "Name:Rakshitha\n",
            "Age:19\n",
            "Gender:Female\n",
            "The good girl is Rakshitha\n",
            "Her first name is Rakshitha\n",
            "Her last name is uppu\n",
            "Bhanu is from India\n",
            "Dhanush is from India\n",
            "Rakshitha is from India\n",
            "Bhavana is from India\n",
            "goa\n",
            "pineapple\n",
            "papaya\n",
            "20\n",
            "30\n",
            "40\n"
          ]
        }
      ],
      "source": [
        "#creating a function\n",
        "def Rakshitha():\n",
        "  print(\"Hello from Rakshitha\")\n",
        "Rakshitha()\n",
        "\n",
        "#calling a function\n",
        "def Rakshitha(x):\n",
        "  print(x+\"Hello from Rakshitha\")\n",
        "Rakshitha(\"Bhanu \")\n",
        "Rakshitha(\"Dhanush \")\n",
        "Rakshitha(\"Bhavana \")\n",
        "\n",
        "#number of argumemnts\n",
        "def Rakshitha(x,y,z):\n",
        "  print( x + \" \" + y + \" \" + z)\n",
        "Rakshitha(\"Bhavana\",\"Indhukuri\",\"is bad gal\")\n",
        "\n",
        "#keyword arguments\n",
        "def Rakshitha(n,a,g):\n",
        "  print(\"Name:\"+\"Rakshitha\")\n",
        "  print(\"Age:\"+\"19\")\n",
        "  print(\"Gender:\"+\"Female\")\n",
        "Rakshitha(\"name\",\"age\",\"gender\")\n",
        "\n",
        "#arbitary arguments,*args\n",
        "def Rakshitha(*x):\n",
        "  print(\"The good girl is \"+x[2])\n",
        "Rakshitha(\"Dharani\",\"Bhavana\",\"Rakshitha\")\n",
        "\n",
        "#arbitary keywords\n",
        "def Rakshitha(**kid):\n",
        "  print(\"Her first name is \"+ kid[\"fname\"])\n",
        "  print(\"Her last name is \"+ kid[\"lname\"])\n",
        "Rakshitha(fname=\"Rakshitha\",lname=\"uppu\")\n",
        "\n",
        "#default parameter value\n",
        "def Rakshitha(name=\"Rakshitha \"):\n",
        "  print(name + \"is from India\")\n",
        "Rakshitha(\"Bhanu \")\n",
        "Rakshitha(\"Dhanush \")\n",
        "Rakshitha()\n",
        "Rakshitha(\"Bhavana \")\n",
        "\n",
        "#passing a list as an argument\n",
        "def Rakshitha(fruits):\n",
        "  for x in fruits:\n",
        "   print(x)\n",
        "fruits=[\"goa\",\"pineapple\",\"papaya\"]\n",
        "Rakshitha(fruits)\n",
        "\n",
        "#return values\n",
        "def Rakshitha(x):\n",
        "  return 5*x\n",
        "print(Rakshitha(4))\n",
        "print(Rakshitha(6))\n",
        "print(Rakshitha(8))"
      ]
    }
  ]
}