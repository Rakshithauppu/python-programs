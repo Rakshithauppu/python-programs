{
  "nbformat": 4,
  "nbformat_minor": 0,
  "metadata": {
    "colab": {
      "name": "Functions.ipynb",
      "provenance": [],
      "authorship_tag": "ABX9TyN/z2v+qYfSVCtFYQg8iM5P",
      "include_colab_link": true
    },
    "kernelspec": {
      "name": "python3",
      "display_name": "Python 3"
    },
    "language_info": {
      "name": "python"
    }
  },
  "cells": [
    {
      "cell_type": "markdown",
      "metadata": {
        "id": "view-in-github",
        "colab_type": "text"
      },
      "source": [
        "<a href=\"https://colab.research.google.com/github/Rakshithauppu/python-programs/blob/main/Functions.ipynb\" target=\"_parent\"><img src=\"https://colab.research.google.com/assets/colab-badge.svg\" alt=\"Open In Colab\"/></a>"
      ]
    },
    {
      "cell_type": "code",
      "execution_count": 41,
      "metadata": {
        "colab": {
          "base_uri": "https://localhost:8080/"
        },
        "id": "VrCPo2ZiPiTX",
        "outputId": "35c3460b-4b4c-4ae7-ce5e-a83307124b96"
      },
      "outputs": [
        {
          "output_type": "stream",
          "name": "stdout",
          "text": [
            "hello from Rakshitha\n",
            "Bhanu hello from Rakshitha\n",
            "Dhanush hello from Rakshitha\n",
            "Bhavana hello from Rakshitha\n",
            "Bhavana Indhukuri is bad gal\n",
            "name:rakshitha\n",
            "age:19\n",
            "gender:female\n",
            "her first name is Rakshitha\n",
            "her last name is uppu\n",
            "Bhanu is from India\n",
            "Dhanush is from India\n",
            "Rakshitha is from India\n",
            "Bhavana is from India\n"
          ]
        }
      ],
      "source": [
        "#creating a function\n",
        "def Rakshitha():\n",
        "  print(\"hello from Rakshitha\")\n",
        "Rakshitha()\n",
        "\n",
        "#calling a function\n",
        "def Rakshitha(x):\n",
        "  print(x+\"hello from Rakshitha\")\n",
        "Rakshitha(\"Bhanu \")\n",
        "Rakshitha(\"Dhanush \")\n",
        "Rakshitha(\"Bhavana \")\n",
        "\n",
        "#number of argumemnts\n",
        "def Rakshitha(x,y,z):\n",
        "  print( x + \" \" + y + \" \" + z)\n",
        "Rakshitha(\"Bhavana\",\"Indhukuri\",\"is bad gal\")\n",
        "\n",
        "#keyword arguments\n",
        "def Rakshitha(n,a,g):\n",
        "  print(\"name:\"+\"rakshitha\")\n",
        "  print(\"age:\"+\"19\")\n",
        "  print(\"gender:\"+\"female\")\n",
        "Rakshitha(\"name\",\"age\",\"gender\")\n",
        "\n",
        "#arbitary keywords\n",
        "def Rakshitha(**kid):\n",
        "  print(\"her first name is \"+ kid[\"fname\"])\n",
        "  print(\"her last name is \"+ kid[\"lname\"])\n",
        "Rakshitha(fname=\"Rakshitha\",lname=\"uppu\")\n",
        "\n",
        "#default parameter value\n",
        "def Rakshitha(name=\"Rakshitha \"):\n",
        "  print(name + \"is from India\")\n",
        "Rakshitha(\"Bhanu \")\n",
        "Rakshitha(\"Dhanush \")\n",
        "Rakshitha()\n",
        "Rakshitha(\"Bhavana \")\n",
        "\n",
        "#passing a list as an argument"
      ]
    },
    {
      "cell_type": "code",
      "source": [
        ""
      ],
      "metadata": {
        "id": "2AecaPewYQM9"
      },
      "execution_count": null,
      "outputs": []
    }
  ]
}