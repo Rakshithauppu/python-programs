{
  "nbformat": 4,
  "nbformat_minor": 0,
  "metadata": {
    "colab": {
      "name": "Functions.ipynb",
      "provenance": [],
      "authorship_tag": "ABX9TyMIUdL7ueC7gpneqr1pj/lA",
      "include_colab_link": true
    },
    "kernelspec": {
      "name": "python3",
      "display_name": "Python 3"
    },
    "language_info": {
      "name": "python"
    }
  },
  "cells": [
    {
      "cell_type": "markdown",
      "metadata": {
        "id": "view-in-github",
        "colab_type": "text"
      },
      "source": [
        "<a href=\"https://colab.research.google.com/github/Rakshithauppu/python-programs/blob/main/Functions.ipynb\" target=\"_parent\"><img src=\"https://colab.research.google.com/assets/colab-badge.svg\" alt=\"Open In Colab\"/></a>"
      ]
    },
    {
      "cell_type": "code",
      "execution_count": 10,
      "metadata": {
        "colab": {
          "base_uri": "https://localhost:8080/"
        },
        "id": "VrCPo2ZiPiTX",
        "outputId": "6179b380-d840-46da-8916-8c26934d88ea"
      },
      "outputs": [
        {
          "output_type": "stream",
          "name": "stdout",
          "text": [
            "Hello from Rakshitha\n"
          ]
        }
      ],
      "source": [
        "#creating a function\n",
        "def Rakshitha():\n",
        "  print(\"Hello from Rakshitha\")\n",
        "Rakshitha()"
      ]
    },
    {
      "cell_type": "code",
      "source": [
        "#Arguments\n",
        "def Rakshitha(x):\n",
        "  print(x+\"Hello from Rakshitha\")\n",
        "Rakshitha(\"Bhanu, \")\n",
        "Rakshitha(\"Dhanush, \")\n",
        "Rakshitha(\"Bhavana, \")"
      ],
      "metadata": {
        "id": "Gg3jLLMDiRPi",
        "outputId": "1e2234ea-d76a-4bae-fe48-70953479748c",
        "colab": {
          "base_uri": "https://localhost:8080/"
        }
      },
      "execution_count": 28,
      "outputs": [
        {
          "output_type": "stream",
          "name": "stdout",
          "text": [
            "Bhanu, Hello from Rakshitha\n",
            "Dhanush, Hello from Rakshitha\n",
            "Bhavana, Hello from Rakshitha\n"
          ]
        }
      ]
    },
    {
      "cell_type": "code",
      "source": [
        "#number of argumemnts\n",
        "def Rakshitha(x,y,z):\n",
        "  print( x + \" \" + y + \" \" + z)\n",
        "Rakshitha(\"Bhavana\",\"Indhukuri\",\"is no 1 bullshit gal\")\n"
      ],
      "metadata": {
        "id": "6IahCNjJiMry",
        "outputId": "d9311a2e-70e7-4e87-b64b-7e164ee82658",
        "colab": {
          "base_uri": "https://localhost:8080/"
        }
      },
      "execution_count": 25,
      "outputs": [
        {
          "output_type": "stream",
          "name": "stdout",
          "text": [
            "Bhavana Indhukuri is no 1 bullshit gal\n"
          ]
        }
      ]
    },
    {
      "cell_type": "code",
      "source": [
        "#keyword arguments\n",
        "def Rakshitha(n,a,g):\n",
        "  print(\"Name : \"+\"Rakshitha\")\n",
        "  print(\"Age : \"+\"19\")\n",
        "  print(\"Gender : \"+\"Female\")\n",
        "Rakshitha(\"name\",\"age\",\"gender\")"
      ],
      "metadata": {
        "id": "qyCMb62ciIZS",
        "outputId": "fdec633d-e851-437f-959f-9462e740a8c5",
        "colab": {
          "base_uri": "https://localhost:8080/"
        }
      },
      "execution_count": 27,
      "outputs": [
        {
          "output_type": "stream",
          "name": "stdout",
          "text": [
            "Name : Rakshitha\n",
            "Age : 19\n",
            "Gender : Female\n"
          ]
        }
      ]
    },
    {
      "cell_type": "code",
      "source": [
        "#arbitary arguments,*args\n",
        "def Rakshitha(*x):\n",
        "  print(\"The good girl is \"+x[2])\n",
        "Rakshitha(\"Dharani\",\"Bhavana\",\"Rakshitha\")"
      ],
      "metadata": {
        "id": "bgFwHFqDiFWa",
        "outputId": "232862bb-3e41-4992-ca64-f10fcc7f4465",
        "colab": {
          "base_uri": "https://localhost:8080/"
        }
      },
      "execution_count": 6,
      "outputs": [
        {
          "output_type": "stream",
          "name": "stdout",
          "text": [
            "The good girl is Rakshitha\n"
          ]
        }
      ]
    },
    {
      "cell_type": "code",
      "source": [
        "#arbitary keywords\n",
        "def Rakshitha(**kid):\n",
        "  print(\"Her first name is \"+ kid[\"fname\"])\n",
        "  print(\"Her last name is \"+ kid[\"lname\"])\n",
        "Rakshitha(fname=\"Rakshitha\",lname=\"uppu\")"
      ],
      "metadata": {
        "id": "I6mu0pA-iARC",
        "outputId": "9351009b-0a81-4801-9ca5-a66829f9e975",
        "colab": {
          "base_uri": "https://localhost:8080/"
        }
      },
      "execution_count": 5,
      "outputs": [
        {
          "output_type": "stream",
          "name": "stdout",
          "text": [
            "Her first name is Rakshitha\n",
            "Her last name is uppu\n"
          ]
        }
      ]
    },
    {
      "cell_type": "code",
      "source": [
        "#default parameter value\n",
        "def Rakshitha(name=\"Rakshitha \"):\n",
        "  print(name + \"is from India\")\n",
        "Rakshitha(\"Bhanu \")\n",
        "Rakshitha(\"Dhanush \")\n",
        "Rakshitha()\n",
        "Rakshitha(\"Bhavana \")"
      ],
      "metadata": {
        "id": "gfI7-sE4h7CC",
        "outputId": "4c6730d2-58ca-485f-ee47-1598c24fe27b",
        "colab": {
          "base_uri": "https://localhost:8080/"
        }
      },
      "execution_count": 4,
      "outputs": [
        {
          "output_type": "stream",
          "name": "stdout",
          "text": [
            "Bhanu is from India\n",
            "Dhanush is from India\n",
            "Rakshitha is from India\n",
            "Bhavana is from India\n"
          ]
        }
      ]
    },
    {
      "cell_type": "code",
      "source": [
        "#passing a list as an argument\n",
        "def Rakshitha(fruits):\n",
        "  for x in fruits:\n",
        "   print(x)\n",
        "fruits=[\"goa\",\"pineapple\",\"papaya\"]\n",
        "Rakshitha(fruits)\n"
      ],
      "metadata": {
        "id": "8vhJoFzqh13y",
        "outputId": "5d3db470-aede-4523-cdaa-6e9ea4fa4e30",
        "colab": {
          "base_uri": "https://localhost:8080/"
        }
      },
      "execution_count": 3,
      "outputs": [
        {
          "output_type": "stream",
          "name": "stdout",
          "text": [
            "goa\n",
            "pineapple\n",
            "papaya\n"
          ]
        }
      ]
    },
    {
      "cell_type": "code",
      "source": [
        "#return values\n",
        "def Rakshitha(x):\n",
        "  return 5*x\n",
        "print(Rakshitha(4))\n",
        "print(Rakshitha(9))\n",
        "print(Rakshitha(8))"
      ],
      "metadata": {
        "id": "LYCy0d0whxFS",
        "outputId": "81a467fc-4bca-4bc1-d550-0f11b59c4d20",
        "colab": {
          "base_uri": "https://localhost:8080/"
        }
      },
      "execution_count": 2,
      "outputs": [
        {
          "output_type": "stream",
          "name": "stdout",
          "text": [
            "20\n",
            "45\n",
            "40\n"
          ]
        }
      ]
    },
    {
      "cell_type": "code",
      "source": [
        "def Rakshitha(k):\n",
        "  if(k>0):\n",
        "    result = k + Rakshitha(k-1)\n",
        "    print(result)\n",
        "  else:\n",
        "    result=0\n",
        "  return result\n",
        "print(\"\\n\\nRecursion example results\")\n",
        "Rakshitha(5)\n"
      ],
      "metadata": {
        "id": "mRpSkv9MiY6R",
        "outputId": "76161fc1-cbcc-41cb-9ec8-d94931338402",
        "colab": {
          "base_uri": "https://localhost:8080/"
        }
      },
      "execution_count": 22,
      "outputs": [
        {
          "output_type": "stream",
          "name": "stdout",
          "text": [
            "\n",
            "\n",
            "Recursion example results\n",
            "1\n",
            "3\n",
            "6\n",
            "10\n",
            "15\n"
          ]
        },
        {
          "output_type": "execute_result",
          "data": {
            "text/plain": [
              "15"
            ]
          },
          "metadata": {},
          "execution_count": 22
        }
      ]
    }
  ]
}