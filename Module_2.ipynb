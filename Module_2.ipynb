{
  "nbformat": 4,
  "nbformat_minor": 0,
  "metadata": {
    "colab": {
      "name": "Module 2.ipynb",
      "provenance": [],
      "authorship_tag": "ABX9TyOYMEm9MMnLJt+Yxvt5gO04",
      "include_colab_link": true
    },
    "kernelspec": {
      "name": "python3",
      "display_name": "Python 3"
    },
    "language_info": {
      "name": "python"
    }
  },
  "cells": [
    {
      "cell_type": "markdown",
      "metadata": {
        "id": "view-in-github",
        "colab_type": "text"
      },
      "source": [
        "<a href=\"https://colab.research.google.com/github/Rakshithauppu/python-programs/blob/main/Module_2.ipynb\" target=\"_parent\"><img src=\"https://colab.research.google.com/assets/colab-badge.svg\" alt=\"Open In Colab\"/></a>"
      ]
    },
    {
      "cell_type": "code",
      "execution_count": null,
      "metadata": {
        "colab": {
          "base_uri": "https://localhost:8080/"
        },
        "id": "0ngY5llwrzW5",
        "outputId": "800aa599-1d6e-4f52-c4ba-28390d49cc06"
      },
      "outputs": [
        {
          "output_type": "stream",
          "name": "stdout",
          "text": [
            "5\n",
            "2\n",
            "10\n"
          ]
        }
      ],
      "source": [
        "#Create a function which accepts two inputs from the user and compute nCr \n",
        "def nCr(d,o):\n",
        "  return(fact(d)/(fact(o)\n",
        "                *fact(d-o)))\n",
        "d=int(input(\"\"))\n",
        "o=int(input(\"\"))\n",
        "def fact(d):\n",
        "  res=1\n",
        "  for i in range(2,d+1):\n",
        "      res =res*i\n",
        "  return res\n",
        "print(int(nCr(d,o)))"
      ]
    },
    {
      "cell_type": "code",
      "source": [
        "#Program to print a specified list after removing the 0th, 4th and 5th elements \n",
        "#Sample List : ['Red', 'Green', 'White', 'Black', 'Pink', 'Yellow'] Expected Output : ['Green', 'White', 'Black']\n",
        "Rakshi=['Red','Green','White','Black','Pink','Yellow']\n",
        "Rakshi=[r for (g,r) in enumerate (Rakshi) if g not in (0,4,5)]\n",
        "print(Rakshi)"
      ],
      "metadata": {
        "id": "I0RaSty2x1h5",
        "outputId": "834f6175-019c-4a5b-c49b-1b02cd15ebb7",
        "colab": {
          "base_uri": "https://localhost:8080/"
        }
      },
      "execution_count": null,
      "outputs": [
        {
          "output_type": "stream",
          "name": "stdout",
          "text": [
            "['Green', 'White', 'Black']\n"
          ]
        }
      ]
    },
    {
      "cell_type": "code",
      "source": [
        "#x Given list of tuples, remove all the tuples with length K.\n",
        "#Input : test_list = [(4, 5), (4, ), (8, 6, 7), (1, ), (3, 4, 6, 7)], K = 2\n",
        "#Output : [(4, ), (8, 6, 7), (1, ), (3, 4, 6, 7)]\n",
        "#Explanation : (4, 5) of len = 2 is removed\n",
        "Rakshitha=[(4,5),(4, ),(8,6,7),(1, ),(3,4,6,7)]\n",
        "print(\"Original list:\"+str(Rakshitha))\n",
        "k = int(input(\"Enter the length of tuples you want to eliminate: \"))\n",
        "fin=[]\n",
        "for i in range (0,len(Rakshitha)):\n",
        "  if len(Rakshitha[i]) !=k:\n",
        "    fin.append(Rakshitha[i])\n",
        "\n",
        "print(\"Filtered list: \"+str(fin))"
      ],
      "metadata": {
        "id": "wuTmrUtc6oL_",
        "outputId": "40343b12-07a1-4438-af75-ae8ae98c92f5",
        "colab": {
          "base_uri": "https://localhost:8080/"
        }
      },
      "execution_count": null,
      "outputs": [
        {
          "output_type": "stream",
          "name": "stdout",
          "text": [
            "Original list:[(4, 5), (4,), (8, 6, 7), (1,), (3, 4, 6, 7)]\n",
            "Enter the length of tuples you want to eliminate: 2\n",
            "Filtered list: [(4,), (8, 6, 7), (1,), (3, 4, 6, 7)]\n"
          ]
        }
      ]
    },
    {
      "cell_type": "code",
      "source": [
        "#Program to get the difference between the two lists.\n",
        "R=[78,34,24,97,56,45]\n",
        "D=[67,90,46,62,84,23]\n",
        "diff_R_D=list(set(R)-set(D))\n",
        "diff_D_R=list(set(D)-set(R))\n",
        "total_difference=diff_R_D+diff_D_R\n",
        "print(total_difference)"
      ],
      "metadata": {
        "id": "cCMOsAU_-T6f",
        "outputId": "eac5e84b-8ebe-454d-f804-51ba40def756",
        "colab": {
          "base_uri": "https://localhost:8080/"
        }
      },
      "execution_count": null,
      "outputs": [
        {
          "output_type": "stream",
          "name": "stdout",
          "text": [
            "[97, 34, 45, 78, 24, 56, 67, 46, 84, 23, 90, 62]\n"
          ]
        }
      ]
    },
    {
      "cell_type": "code",
      "source": [
        "#Given a list of numbers of list, write a Python program to create a list of tuples\n",
        "#having first element as the number and second element as the square of the number.\n",
        "rakshitha=[45,95,86,46,75]\n",
        "print(\"The list is: \")\n",
        "print(rakshitha)\n",
        "print(\"The resultant tuple is: \")\n",
        "rakshitha=[(val, pow(val, 2)) for val in rakshitha]\n",
        "print(rakshitha)"
      ],
      "metadata": {
        "id": "qeFKleMGB4fX",
        "outputId": "e2258dcf-2f92-40c2-fadd-3529a5ba7d0d",
        "colab": {
          "base_uri": "https://localhost:8080/"
        }
      },
      "execution_count": null,
      "outputs": [
        {
          "output_type": "stream",
          "name": "stdout",
          "text": [
            "The list is: \n",
            "[45, 95, 86, 46, 75]\n",
            "The resultant tuple is: \n",
            "[(45, 2025), (95, 9025), (86, 7396), (46, 2116), (75, 5625)]\n"
          ]
        }
      ]
    },
    {
      "cell_type": "code",
      "source": [
        "#Program to remove a key from a dictionary\n",
        "rakshitha={'a':9,'b':6,'c':7,'d':3}\n",
        "print(rakshitha)\n",
        "if 'a' in rakshitha:\n",
        "  del rakshitha['a']\n",
        "print(rakshitha)  "
      ],
      "metadata": {
        "id": "WfkffU2QEb19",
        "outputId": "3fca160c-b8b1-4634-f09b-116652908b50",
        "colab": {
          "base_uri": "https://localhost:8080/"
        }
      },
      "execution_count": null,
      "outputs": [
        {
          "output_type": "stream",
          "name": "stdout",
          "text": [
            "{'a': 9, 'b': 6, 'c': 7, 'd': 3}\n",
            "{'b': 6, 'c': 7, 'd': 3}\n"
          ]
        }
      ]
    },
    {
      "cell_type": "code",
      "source": [
        "#Program to find the second smallest number and second largest number in a list\n",
        "rakshitha=[8,5,7,2,3,96,937,235,24]\n",
        "rakshitha.sort()\n",
        "print(rakshitha)\n",
        "print(\"The second smallest number in the  list: \",rakshitha[1])\n",
        "print(\"The second largest number in the  list: \",rakshitha[len(rakshitha)-2])\n"
      ],
      "metadata": {
        "id": "eBAHtXAJdYGj",
        "outputId": "37f2b515-db53-41e4-8cb1-54240c4fdaa2",
        "colab": {
          "base_uri": "https://localhost:8080/"
        }
      },
      "execution_count": 1,
      "outputs": [
        {
          "output_type": "stream",
          "name": "stdout",
          "text": [
            "[2, 3, 5, 7, 8, 24, 96, 235, 937]\n",
            "The second smallest number in the  list:  3\n",
            "The second largest number in the  list:  235\n"
          ]
        }
      ]
    },
    {
      "cell_type": "code",
      "source": [
        "#Given a list of numbers of list, write a Python program to create a list of tuples having first element as\n",
        "#the number and second element as the square of the number\n",
        "rakshitha=[6,3,9,7,2]\n",
        "new_list=[]\n",
        "for i in rakshitha:\n",
        " y=(i,i**2)\n",
        " new_list.append(y)\n",
        "print(\"The required list is:\",new_list)\n"
      ],
      "metadata": {
        "id": "SFsoB1PWew5X",
        "outputId": "605ac451-0890-4b92-8bf2-3f522b07e7a1",
        "colab": {
          "base_uri": "https://localhost:8080/"
        }
      },
      "execution_count": 3,
      "outputs": [
        {
          "output_type": "stream",
          "name": "stdout",
          "text": [
            "The required list is: [(6, 36), (3, 9), (9, 81), (7, 49), (2, 4)]\n"
          ]
        }
      ]
    },
    {
      "cell_type": "code",
      "source": [
        "#Program to generate and print a dictionary that contains a number (between 1 and n) in the form (x, x*x). \n",
        "rakshitha=dict()\n",
        "x=int(input(\"Enter a number: \"))\n",
        "for i in range(1,x+1):\n",
        " rakshitha.update({i:i**2})\n",
        "print(\"The required dictionary is:\",rakshitha)\n"
      ],
      "metadata": {
        "id": "XkG2_KX7ffW-",
        "outputId": "4bcb371e-52f7-4622-920a-27fa417072c9",
        "colab": {
          "base_uri": "https://localhost:8080/"
        }
      },
      "execution_count": 5,
      "outputs": [
        {
          "output_type": "stream",
          "name": "stdout",
          "text": [
            "Enter a number: 3\n",
            "The required dictionary is: {1: 1, 2: 4, 3: 9}\n"
          ]
        }
      ]
    },
    {
      "cell_type": "code",
      "source": [
        "#Program to get the maximum and minimum value in a dictionary.\n",
        "rakshitha={'a':78, 'b':93, 'c':56, 'd':23}\n",
        "maxvalue=max(rakshitha, key=rakshitha.get)\n",
        "minvalue=min(rakshitha, key=rakshitha.get)\n",
        "print(\"The maximum value in the given dictionary has a key: '\"+maxvalue+\"' and its value is:\",rakshitha[maxvalue])\n",
        "print(\"The minimum value in the given dictionary has a key: '\"+minvalue+\"' and its value is:\",rakshitha[minvalue])"
      ],
      "metadata": {
        "id": "_0q5n9zrgIaE",
        "outputId": "2f491063-d368-49ee-9643-6311d00a321f",
        "colab": {
          "base_uri": "https://localhost:8080/"
        }
      },
      "execution_count": 6,
      "outputs": [
        {
          "output_type": "stream",
          "name": "stdout",
          "text": [
            "The maximum value in the given dictionary has a key: 'b' and its value is: 93\n",
            "The minimum value in the given dictionary has a key: 'd' and its value is: 23\n"
          ]
        }
      ]
    },
    {
      "cell_type": "code",
      "source": [
        "#Program to perform operations on string using unicodes ,splitting of string,accessing elements of string using locations\n",
        "rakshitha=input(\"enter a string: \")\n",
        "print(rakshitha.split())\n",
        "print(rakshitha[3:12])\n"
      ],
      "metadata": {
        "id": "kzH_uBRxg34s",
        "outputId": "2b444383-d31a-4462-ee4a-3f95b0ff3cb0",
        "colab": {
          "base_uri": "https://localhost:8080/"
        }
      },
      "execution_count": 7,
      "outputs": [
        {
          "output_type": "stream",
          "name": "stdout",
          "text": [
            "enter a string: rakshitha is a very kind hearted girl, so she has many friends!!\n",
            "['rakshitha', 'is', 'a', 'very', 'kind', 'hearted', 'girl,', 'so', 'she', 'has', 'many', 'friends!!']\n",
            "shitha is\n"
          ]
        }
      ]
    },
    {
      "cell_type": "code",
      "source": [
        "#Program for Counting occurrence of a certain element in a string, getting indexes that have matching elements.\n",
        "rakshitha=\"beetroot\"\n",
        "print(rakshitha.count('b'))\n",
        "bhavana=\"i went to the market this evening and bought some fresh fruits.\"\n",
        "print(bhavana.count('to'))\n"
      ],
      "metadata": {
        "id": "LLaaiTmbhlI_",
        "outputId": "d835fb3d-4ce9-4032-cad8-0a43765fcbbb",
        "colab": {
          "base_uri": "https://localhost:8080/"
        }
      },
      "execution_count": 12,
      "outputs": [
        {
          "output_type": "stream",
          "name": "stdout",
          "text": [
            "1\n",
            "1\n"
          ]
        }
      ]
    },
    {
      "cell_type": "code",
      "source": [
        "#Program for replacing one substring by another For example - Rabbit -Replace 'bb' by 'cc'\n",
        "rakshitha='apple'\n",
        "bhavana=rakshitha.replace('pp','bb')\n",
        "print(bhavana)\n"
      ],
      "metadata": {
        "id": "PE1EbbpSiaG3",
        "outputId": "e2a96a29-e691-4332-c64c-3c7e09a1a58a",
        "colab": {
          "base_uri": "https://localhost:8080/"
        }
      },
      "execution_count": 14,
      "outputs": [
        {
          "output_type": "stream",
          "name": "stdout",
          "text": [
            "abble\n"
          ]
        }
      ]
    },
    {
      "cell_type": "code",
      "source": [
        "#Python function that accepts a string and calculates the number of uppercase letters and lowercase letters.\n",
        "rakshitha=\"I Love My Mom and Dad Equally and Obviously Respect Them.\"\n",
        "count1=0\n",
        "count2=0\n",
        "for i in rakshitha:\n",
        " if i.isupper():\n",
        "  count1+=1\n",
        " elif i.islower():\n",
        "   count2+=1\n",
        " else:\n",
        "  pass\n",
        "print(\"No.of uppercases are: \",count1)\n",
        "print(\"No.of lowercases are: \",count2)\n"
      ],
      "metadata": {
        "id": "j_CGT-1ei00C",
        "outputId": "ec14686f-1fea-4054-d2f0-82748edc44f5",
        "colab": {
          "base_uri": "https://localhost:8080/"
        }
      },
      "execution_count": 18,
      "outputs": [
        {
          "output_type": "stream",
          "name": "stdout",
          "text": [
            "No.of uppercases are:  9\n",
            "No.of lowercases are:  37\n"
          ]
        }
      ]
    },
    {
      "cell_type": "code",
      "source": [
        "#Program to Acronym generator for any user input\n",
        "rakshitha=input(\"enter any string:\")\n",
        "a=rakshitha.split()\n",
        "for i in a:\n",
        " print(i[0],end='')\n"
      ],
      "metadata": {
        "id": "tqQyItnMk-qB",
        "outputId": "1855c099-2473-41ce-971d-981c1ba59bd4",
        "colab": {
          "base_uri": "https://localhost:8080/"
        }
      },
      "execution_count": 21,
      "outputs": [
        {
          "output_type": "stream",
          "name": "stdout",
          "text": [
            "enter any string:Gandhi Institute Technology And Management\n",
            "GITAM"
          ]
        }
      ]
    },
    {
      "cell_type": "code",
      "source": [
        "# Program to count the number of strings where the string length is 2 or more and the first and last character are same\n",
        "#from a given list of strings , Sample List : ['abc', 'xyz', 'aba', '1221'] Expected Result : 2\n",
        "rakshitha = ['hbjh', ',nmlihj', 'kniwue', '723476','nkjdsj','092','jnd','kejhsduyjegh']\n",
        "count=0\n",
        "for i in rakshitha:\n",
        " if len(i)>=2:\n",
        "  if i[0]==i[len(i)-1]:\n",
        "     print(i)\n",
        " count+=1\n",
        "print(count)\n"
      ],
      "metadata": {
        "id": "jzRpCzdPlpze",
        "outputId": "f496eb1e-c55b-4118-9086-43fd43f1488b",
        "colab": {
          "base_uri": "https://localhost:8080/"
        }
      },
      "execution_count": 23,
      "outputs": [
        {
          "output_type": "stream",
          "name": "stdout",
          "text": [
            "hbjh\n",
            "8\n"
          ]
        }
      ]
    }
  ]
}