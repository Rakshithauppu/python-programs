{
  "nbformat": 4,
  "nbformat_minor": 0,
  "metadata": {
    "colab": {
      "name": "Module 2.ipynb",
      "provenance": [],
      "authorship_tag": "ABX9TyPgKUR6ai5UNBVOfkGWZlSu",
      "include_colab_link": true
    },
    "kernelspec": {
      "name": "python3",
      "display_name": "Python 3"
    },
    "language_info": {
      "name": "python"
    }
  },
  "cells": [
    {
      "cell_type": "markdown",
      "metadata": {
        "id": "view-in-github",
        "colab_type": "text"
      },
      "source": [
        "<a href=\"https://colab.research.google.com/github/Rakshithauppu/python-programs/blob/main/Module_2.ipynb\" target=\"_parent\"><img src=\"https://colab.research.google.com/assets/colab-badge.svg\" alt=\"Open In Colab\"/></a>"
      ]
    },
    {
      "cell_type": "code",
      "execution_count": 1,
      "metadata": {
        "colab": {
          "base_uri": "https://localhost:8080/"
        },
        "id": "0ngY5llwrzW5",
        "outputId": "800aa599-1d6e-4f52-c4ba-28390d49cc06"
      },
      "outputs": [
        {
          "output_type": "stream",
          "name": "stdout",
          "text": [
            "5\n",
            "2\n",
            "10\n"
          ]
        }
      ],
      "source": [
        "#Create a function which accepts two inputs from the user and compute nCr \n",
        "def nCr(d,o):\n",
        "  return(fact(d)/(fact(o)\n",
        "                *fact(d-o)))\n",
        "d=int(input(\"\"))\n",
        "o=int(input(\"\"))\n",
        "def fact(d):\n",
        "  res=1\n",
        "  for i in range(2,d+1):\n",
        "      res =res*i\n",
        "  return res\n",
        "print(int(nCr(d,o)))"
      ]
    },
    {
      "cell_type": "code",
      "source": [
        "#Program to print a specified list after removing the 0th, 4th and 5th elements \n",
        "#Sample List : ['Red', 'Green', 'White', 'Black', 'Pink', 'Yellow'] Expected Output : ['Green', 'White', 'Black']\n",
        "Rakshi=['Red','Green','White','Black','Pink','Yellow']\n",
        "Rakshi=[r for (g,r) in enumerate (Rakshi) if g not in (0,4,5)]\n",
        "print(Rakshi)"
      ],
      "metadata": {
        "id": "I0RaSty2x1h5",
        "outputId": "834f6175-019c-4a5b-c49b-1b02cd15ebb7",
        "colab": {
          "base_uri": "https://localhost:8080/"
        }
      },
      "execution_count": 4,
      "outputs": [
        {
          "output_type": "stream",
          "name": "stdout",
          "text": [
            "['Green', 'White', 'Black']\n"
          ]
        }
      ]
    },
    {
      "cell_type": "code",
      "source": [
        "#x Given list of tuples, remove all the tuples with length K.\n",
        "#Input : test_list = [(4, 5), (4, ), (8, 6, 7), (1, ), (3, 4, 6, 7)], K = 2\n",
        "#Output : [(4, ), (8, 6, 7), (1, ), (3, 4, 6, 7)]\n",
        "#Explanation : (4, 5) of len = 2 is removed\n",
        "Rakshitha=[(4,5),(4, ),(8,6,7),(1, ),(3,4,6,7)]\n",
        "print(\"Original list:\"+str(Rakshitha))\n",
        "k = int(input(\"Enter the length of tuples you want to eliminate: \"))\n",
        "fin=[]\n",
        "for i in range (0,len(Rakshitha)):\n",
        "  if len(Rakshitha[i]) !=k:\n",
        "    fin.append(Rakshitha[i])\n",
        "\n",
        "print(\"Filtered list: \"+str(fin))"
      ],
      "metadata": {
        "id": "wuTmrUtc6oL_",
        "outputId": "40343b12-07a1-4438-af75-ae8ae98c92f5",
        "colab": {
          "base_uri": "https://localhost:8080/"
        }
      },
      "execution_count": 6,
      "outputs": [
        {
          "output_type": "stream",
          "name": "stdout",
          "text": [
            "Original list:[(4, 5), (4,), (8, 6, 7), (1,), (3, 4, 6, 7)]\n",
            "Enter the length of tuples you want to eliminate: 2\n",
            "Filtered list: [(4,), (8, 6, 7), (1,), (3, 4, 6, 7)]\n"
          ]
        }
      ]
    },
    {
      "cell_type": "code",
      "source": [
        "#Program to get the difference between the two lists.\n",
        "R=[78,34,24,97,56,45]\n",
        "D=[67,90,46,62,84,23]\n",
        "diff_R_D=list(set(R)-set(D))\n",
        "diff_D_R=list(set(D)-set(R))\n",
        "total_difference=diff_R_D+diff_D_R\n",
        "print(total_difference)"
      ],
      "metadata": {
        "id": "cCMOsAU_-T6f",
        "outputId": "eac5e84b-8ebe-454d-f804-51ba40def756",
        "colab": {
          "base_uri": "https://localhost:8080/"
        }
      },
      "execution_count": 7,
      "outputs": [
        {
          "output_type": "stream",
          "name": "stdout",
          "text": [
            "[97, 34, 45, 78, 24, 56, 67, 46, 84, 23, 90, 62]\n"
          ]
        }
      ]
    },
    {
      "cell_type": "code",
      "source": [
        "#Given a list of numbers of list, write a Python program to create a list of tuples\n",
        "#having first element as the number and second element as the square of the number.\n",
        "rakshitha=[45,95,86,46,75]\n",
        "print(\"The list is: \")\n",
        "print(rakshitha)\n",
        "print(\"The resultant tuple is: \")\n",
        "rakshitha=[(val, pow(val, 2)) for val in rakshitha]\n",
        "print(rakshitha)"
      ],
      "metadata": {
        "id": "qeFKleMGB4fX",
        "outputId": "e2258dcf-2f92-40c2-fadd-3529a5ba7d0d",
        "colab": {
          "base_uri": "https://localhost:8080/"
        }
      },
      "execution_count": 10,
      "outputs": [
        {
          "output_type": "stream",
          "name": "stdout",
          "text": [
            "The list is: \n",
            "[45, 95, 86, 46, 75]\n",
            "The resultant tuple is: \n",
            "[(45, 2025), (95, 9025), (86, 7396), (46, 2116), (75, 5625)]\n"
          ]
        }
      ]
    },
    {
      "cell_type": "code",
      "source": [
        "#Given list of tuples, remove all the tuples with length K.\n",
        "#Input : test_list = [(4, 5), (4, ), (8, 6, 7), (1, ), (3, 4, 6, 7)], K = 2\n",
        "#Output : [(4, ), (8, 6, 7), (1, ), (3, 4, 6, 7)]\n",
        "#Explanation : (4, 5) of len = 2 is removed.\n",
        "r=int(input(\"enter a number: \"))\n",
        "d=dict()\n",
        "\n",
        "for x in range(1,r+1):\n",
        "  d[x]=x*x\n",
        "print(d)"
      ],
      "metadata": {
        "id": "sBLtrLD4Dy7L",
        "outputId": "ff9436d0-511f-40cc-e0c6-52d80ec5da60",
        "colab": {
          "base_uri": "https://localhost:8080/"
        }
      },
      "execution_count": 12,
      "outputs": [
        {
          "output_type": "stream",
          "name": "stdout",
          "text": [
            "enter a number: 5\n",
            "{1: 1, 2: 4, 3: 9, 4: 16, 5: 25}\n"
          ]
        }
      ]
    },
    {
      "cell_type": "code",
      "source": [
        "#Program to remove a key from a dictionary\n",
        "rakshitha={'a':9,'b':6,'c':7,'d':3}\n",
        "print(rakshitha)\n",
        "if 'a' in rakshitha:\n",
        "  del rakshitha['a']\n",
        "print(rakshitha)  "
      ],
      "metadata": {
        "id": "WfkffU2QEb19",
        "outputId": "3fca160c-b8b1-4634-f09b-116652908b50",
        "colab": {
          "base_uri": "https://localhost:8080/"
        }
      },
      "execution_count": 13,
      "outputs": [
        {
          "output_type": "stream",
          "name": "stdout",
          "text": [
            "{'a': 9, 'b': 6, 'c': 7, 'd': 3}\n",
            "{'b': 6, 'c': 7, 'd': 3}\n"
          ]
        }
      ]
    }
  ]
}