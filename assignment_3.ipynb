{
  "nbformat": 4,
  "nbformat_minor": 0,
  "metadata": {
    "colab": {
      "name": "assignment 3.ipynb",
      "provenance": [],
      "authorship_tag": "ABX9TyPcKyHYVlFVbWJNYnquRFQS",
      "include_colab_link": true
    },
    "kernelspec": {
      "name": "python3",
      "display_name": "Python 3"
    },
    "language_info": {
      "name": "python"
    }
  },
  "cells": [
    {
      "cell_type": "markdown",
      "metadata": {
        "id": "view-in-github",
        "colab_type": "text"
      },
      "source": [
        "<a href=\"https://colab.research.google.com/github/Rakshithauppu/python-programs/blob/main/assignment_3.ipynb\" target=\"_parent\"><img src=\"https://colab.research.google.com/assets/colab-badge.svg\" alt=\"Open In Colab\"/></a>"
      ]
    },
    {
      "cell_type": "code",
      "execution_count": 15,
      "metadata": {
        "colab": {
          "base_uri": "https://localhost:8080/"
        },
        "id": "19t0Oyrzik93",
        "outputId": "46df9875-2008-4f6d-991b-c6ccb4fbfd36"
      },
      "outputs": [
        {
          "output_type": "stream",
          "name": "stdout",
          "text": [
            "2 2\n",
            "with recursion= 4\n"
          ]
        }
      ],
      "source": [
        "#write a python program to find power of number with recursion and without recursion(input n=2 , p=3)\n",
        "#without recursion\n",
        "def pwr(x,y):\n",
        "  z=1\n",
        "  if y>1:\n",
        "    z=x*pwr(x,y-1)\n",
        "    return z\n",
        "  else:\n",
        "    return x\n",
        "a,b=map(int,input().split())\n",
        "#pow(a,b)\n",
        "r=pwr(a,b)\n",
        "print(\"with recursion=\",r)"
      ]
    },
    {
      "cell_type": "code",
      "source": [
        "#write a program to sort tuple by total digits (input: list=[(3,4,6,723),(1,2),(134,234,34)])\n",
        "#output:[(1,2)(3,4,6,723)(34,134,234)]\n",
        "a=eval(input(\"enter list of tuples=\"))\n",
        "for i in range(0,len(a)):\n",
        "  a[i]=sorted(a[i])\n",
        "print(sorted(a))"
      ],
      "metadata": {
        "colab": {
          "base_uri": "https://localhost:8080/"
        },
        "id": "AFW4XSh9o77l",
        "outputId": "8f5238ae-0787-4411-ce73-f7f4627f51db"
      },
      "execution_count": 23,
      "outputs": [
        {
          "output_type": "stream",
          "name": "stdout",
          "text": [
            "enter list of tuples=[(3,4,6,723),(1,2),(134,234,34)]\n",
            "[[1, 2], [3, 4, 6, 723], [34, 134, 234]]\n"
          ]
        }
      ]
    },
    {
      "cell_type": "code",
      "source": [
        "#take five subjects from the user and display the grade of the student,if average is 90-100(o),80-89(a+),70-79(a)...\n",
        "a=int(input(\"enter eng marks: \"))\n",
        "b=int(input(\"enter chem marks: \"))\n",
        "c=int(input(\"enter phy marks: \"))\n",
        "d=int(input(\"enter math marks: \"))\n",
        "e=int(input(\"enter cse marks: \"))\n",
        "avg=(a+b+c+d+e)/5\n",
        "if avg>=90:\n",
        "  print(\"O\")\n",
        "elif avg>=80:\n",
        "  print(\"A+\")\n",
        "elif avg>=70:\n",
        "  print(\"A\")\n",
        "elif avg>=60:\n",
        "  print(\"B\")\n",
        "elif avg>=50:\n",
        "  print(\"C\")\n",
        "else:\n",
        "  print(\"FAIL\")"
      ],
      "metadata": {
        "colab": {
          "base_uri": "https://localhost:8080/"
        },
        "id": "HRfHHetMtBX7",
        "outputId": "980e26c4-ecfc-42f5-e865-4e3e3ca49874"
      },
      "execution_count": 27,
      "outputs": [
        {
          "output_type": "stream",
          "name": "stdout",
          "text": [
            "enter eng marks: 96\n",
            "enter chem marks: 86\n",
            "enter phy marks: 79\n",
            "enter math marks: 95\n",
            "enter cse marks: 89\n",
            "A+\n"
          ]
        }
      ]
    },
    {
      "cell_type": "code",
      "source": [
        "#write a python program that prints 1 if all three given numbers are ascending order.\n",
        "a=int(input(\"enter a number: \"))\n",
        "b=int(input(\"enter a number: \"))\n",
        "c=int(input(\"enter a number: \"))\n",
        "\n",
        "if b!=a+1 or c!=b+1:\n",
        " print(0)\n",
        "elif b==a+1 and c==b+1:\n",
        "  print(1)"
      ],
      "metadata": {
        "colab": {
          "base_uri": "https://localhost:8080/"
        },
        "id": "q8uVFTXhvSDs",
        "outputId": "ccb16655-8951-4b98-c5d8-37cc1dc47109"
      },
      "execution_count": 42,
      "outputs": [
        {
          "output_type": "stream",
          "name": "stdout",
          "text": [
            "enter a number: 7\n",
            "enter a number: 9\n",
            "enter a number: 10\n",
            "0\n"
          ]
        }
      ]
    },
    {
      "cell_type": "code",
      "source": [
        "#check a given number is perfect number are not\n",
        "n = int(input(\"Enter any number: \")) \n",
        "s=0\n",
        "for i in range(1, n): \n",
        " if(n % i == 0):\n",
        "   s= s + i\n",
        "if (s == n): \n",
        " print(\"The number is a Perfect number! \") \n",
        "else:\n",
        " print(\"The number is not a Perfect number! \")"
      ],
      "metadata": {
        "colab": {
          "base_uri": "https://localhost:8080/"
        },
        "id": "dsRa1IGTxL85",
        "outputId": "97432ba8-3820-4a22-efdb-c3a37bcfe3a7"
      },
      "execution_count": 43,
      "outputs": [
        {
          "output_type": "stream",
          "name": "stdout",
          "text": [
            "Enter any number: 49\n",
            "The number is not a Perfect number! \n"
          ]
        }
      ]
    }
  ]
}